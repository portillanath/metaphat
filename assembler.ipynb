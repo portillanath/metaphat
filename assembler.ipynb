{
 "cells": [
  {
   "cell_type": "code",
   "execution_count": 115,
   "id": "8685a39a",
   "metadata": {},
   "outputs": [],
   "source": [
    "from pathlib import Path\n",
    "from tqdm.notebook import tqdm\n",
    "from glob import glob\n",
    "\n",
    "import numpy as np\n",
    "import matplotlib.pyplot as plt\n",
    "\n",
    "def is_predecessor(a,b,max_overlap=17):\n",
    "    \"returns the overlap amount if a is a predecessor of b; -1 otherwise\"\n",
    "    min_i = max(0,max_overlap-len(a))\n",
    "    for i in range(len(a)):\n",
    "        if b.startswith(a[i:]):\n",
    "            return len(a)-i\n",
    "    return -1\n",
    "\n",
    "def path_overlaps(path):\n",
    "    overlaps = np.zeros(len(path)-1,dtype=int)\n",
    "    for i in range(len(path)-1):\n",
    "        overlaps[i] = is_predecessor(path[i],path[i+1])\n",
    "    return overlaps\n",
    "\n",
    "def assemble_path_printer(path):\n",
    "    overlaps = path_overlaps(path)\n",
    "    s = path[0]\n",
    "    o_acc = 0\n",
    "    print(path[0])\n",
    "    for i in range(len(path)-1):\n",
    "        o = overlaps[i]\n",
    "        o_acc += len(path[i])-o\n",
    "        print(\" \"*o_acc+path[i+1])\n",
    "        s += path[i+1][o:]\n",
    "    print(s)\n",
    "    return s\n",
    "\n",
    "def assemble_path(path):\n",
    "    overlaps = path_overlaps(path)\n",
    "    s = path[0]\n",
    "    for i in range(len(path)-1):\n",
    "        o = overlaps[i]\n",
    "        s += path[i+1][o:]\n",
    "    return s"
   ]
  },
  {
   "cell_type": "markdown",
   "id": "58721a8b",
   "metadata": {},
   "source": [
    "# Test"
   ]
  },
  {
   "cell_type": "code",
   "execution_count": 110,
   "id": "2de21eec",
   "metadata": {},
   "outputs": [
    {
     "name": "stdout",
     "output_type": "stream",
     "text": [
      "TATACTGAATTTGCAG\n",
      "           TGCAGGACCTGATATA\n",
      "                    TGATATAAATTCCTT\n",
      "                              TCCTTGTCGTAGACGA\n",
      "                                         GACGAGGTTGTGGCCC\n",
      "                                                    GGCCCTGATGCGCTC\n",
      "                                                              CGCTCTATATCCTCG\n",
      "                                                                        CCTCGAGCGTCGCCAGC\n",
      "                                                                                   GCCAGCTTCTTCGTGC\n",
      "                                                                                             TCGTGCTCGACCGCC\n",
      "TATACTGAATTTGCAGGACCTGATATAAATTCCTTGTCGTAGACGAGGTTGTGGCCCTGATGCGCTCTATATCCTCGAGCGTCGCCAGCTTCTTCGTGCTCGACCGCC\n"
     ]
    }
   ],
   "source": [
    "path = Path(\"path_6.txt\").read_text().split()\n",
    "assemble_path_printer(path);"
   ]
  },
  {
   "cell_type": "markdown",
   "id": "5ac236ab",
   "metadata": {},
   "source": [
    "# export contigs"
   ]
  },
  {
   "cell_type": "code",
   "execution_count": 119,
   "id": "04f455ea",
   "metadata": {},
   "outputs": [],
   "source": [
    "for path_filename in glob(\"path_*.txt\"):\n",
    "    path = Path(path_filename).read_text().split()\n",
    "    contig = assemble_path(path)\n",
    "    with open(path_filename.replace(\".txt\",\"\")+\"_contig.txt\",\"w\") as contig_file:\n",
    "        contig_file.write(contig)"
   ]
  },
  {
   "cell_type": "code",
   "execution_count": null,
   "id": "2e51d725",
   "metadata": {},
   "outputs": [],
   "source": []
  },
  {
   "cell_type": "code",
   "execution_count": null,
   "id": "7f109210",
   "metadata": {},
   "outputs": [],
   "source": []
  },
  {
   "cell_type": "code",
   "execution_count": null,
   "id": "cb922095",
   "metadata": {},
   "outputs": [],
   "source": []
  },
  {
   "cell_type": "code",
   "execution_count": null,
   "id": "30a5b701",
   "metadata": {},
   "outputs": [],
   "source": []
  },
  {
   "cell_type": "code",
   "execution_count": 139,
   "id": "bb916c5f",
   "metadata": {},
   "outputs": [
    {
     "data": {
      "text/plain": [
       "Text(0, 0.5, 'Frequencies')"
      ]
     },
     "execution_count": 139,
     "metadata": {},
     "output_type": "execute_result"
    },
    {
     "data": {
      "image/png": "[encoded data removed]",
      "text/plain": [
       "<Figure size 640x480 with 1 Axes>"
      ]
     },
     "metadata": {},
     "output_type": "display_data"
    }
   ],
   "source": [
    "path0 = Path(\"path_0.txt\").read_text().split()\n",
    "path1 = Path(\"path_1.txt\").read_text().split()\n",
    "path2 = Path(\"path_2.txt\").read_text().split()\n",
    "path3 = Path(\"path_3.txt\").read_text().split()\n",
    "path4 = Path(\"path_4.txt\").read_text().split()\n",
    "path5 = Path(\"path_5.txt\").read_text().split()\n",
    "path6 = Path(\"path_6.txt\").read_text().split()\n",
    "path7 = Path(\"path_7.txt\").read_text().split()\n",
    "\n",
    "plt.hist(path_overlaps(path0),100,log=True);\n",
    "plt.hist(path_overlaps(path1),100,log=True);\n",
    "plt.hist(path_overlaps(path2),100,log=True);\n",
    "plt.hist(path_overlaps(path3),100,log=True);\n",
    "plt.hist(path_overlaps(path4),100,log=True);\n",
    "plt.hist(path_overlaps(path5),100,log=True);\n",
    "plt.hist(path_overlaps(path6),100,log=True);\n",
    "plt.hist(path_overlaps(path7),100,log=True);\n",
    "plt.xlabel(\"k-mer overlapping\")\n",
    "plt.ylabel(\"Frequencies\")"
   ]
  },
  {
   "cell_type": "code",
   "execution_count": null,
   "id": "2e5a38e4",
   "metadata": {},
   "outputs": [],
   "source": []
  },
  {
   "cell_type": "code",
   "execution_count": null,
   "id": "5e833fb8",
   "metadata": {},
   "outputs": [],
   "source": []
  },
  {
   "cell_type": "code",
   "execution_count": 46,
   "id": "c242f436",
   "metadata": {},
   "outputs": [
    {
     "ename": "KeyboardInterrupt",
     "evalue": "",
     "output_type": "error",
     "traceback": [
      "\u001b[0;31m---------------------------------------------------------------------------\u001b[0m",
      "\u001b[0;31mKeyboardInterrupt\u001b[0m                         Traceback (most recent call last)",
      "File \u001b[0;32m<timed eval>:1\u001b[0m\n",
      "Cell \u001b[0;32mIn[42], line 18\u001b[0m, in \u001b[0;36mpair_overlap\u001b[0;34m(a, b)\u001b[0m\n\u001b[1;32m     12\u001b[0m \u001b[38;5;28;01mdef\u001b[39;00m \u001b[38;5;21mpair_overlap\u001b[39m(a,b):\n\u001b[1;32m     13\u001b[0m \u001b[38;5;250m    \u001b[39m\u001b[38;5;124;03m\"\"\"performs the overlap of two sequences:\u001b[39;00m\n\u001b[1;32m     14\u001b[0m \u001b[38;5;124;03m          a: GAGTGTTTCTAAAATT\u001b[39;00m\n\u001b[1;32m     15\u001b[0m \u001b[38;5;124;03m          b:           AAAATTAAATTTCTA\u001b[39;00m\n\u001b[1;32m     16\u001b[0m \u001b[38;5;124;03m    returns: GAGTGTTTCTAAAATTAAATTTCTA\u001b[39;00m\n\u001b[1;32m     17\u001b[0m \u001b[38;5;124;03m    \"\"\"\u001b[39;00m\n\u001b[0;32m---> 18\u001b[0m     overlap \u001b[38;5;241m=\u001b[39m \u001b[43mis_predecessor\u001b[49m\u001b[43m(\u001b[49m\u001b[43ma\u001b[49m\u001b[43m,\u001b[49m\u001b[43mb\u001b[49m\u001b[43m)\u001b[49m\n\u001b[1;32m     19\u001b[0m     \u001b[38;5;28;01mif\u001b[39;00m overlap \u001b[38;5;241m!=\u001b[39m \u001b[38;5;241m-\u001b[39m\u001b[38;5;241m1\u001b[39m:\n\u001b[1;32m     20\u001b[0m         \u001b[38;5;66;03m#print(a[-overlap:],b[:overlap],sep=\"\\n\",end=\"\\n\\n\")\u001b[39;00m\n\u001b[1;32m     21\u001b[0m         \u001b[38;5;28;01mreturn\u001b[39;00m a[:\u001b[38;5;241m-\u001b[39moverlap]\u001b[38;5;241m+\u001b[39mb\n",
      "Cell \u001b[0;32mIn[42], line 8\u001b[0m, in \u001b[0;36mis_predecessor\u001b[0;34m(a, b, max_overlap)\u001b[0m\n\u001b[1;32m      6\u001b[0m min_i \u001b[38;5;241m=\u001b[39m \u001b[38;5;28mmax\u001b[39m(\u001b[38;5;241m0\u001b[39m,max_overlap\u001b[38;5;241m-\u001b[39m\u001b[38;5;28mlen\u001b[39m(a))\n\u001b[1;32m      7\u001b[0m \u001b[38;5;28;01mfor\u001b[39;00m i \u001b[38;5;129;01min\u001b[39;00m \u001b[38;5;28mrange\u001b[39m(\u001b[38;5;28mlen\u001b[39m(a)):\n\u001b[0;32m----> 8\u001b[0m     \u001b[38;5;28;01mif\u001b[39;00m b\u001b[38;5;241m.\u001b[39mstartswith(\u001b[43ma\u001b[49m\u001b[43m[\u001b[49m\u001b[43mi\u001b[49m\u001b[43m:\u001b[49m\u001b[43m]\u001b[49m):\n\u001b[1;32m      9\u001b[0m         \u001b[38;5;28;01mreturn\u001b[39;00m \u001b[38;5;28mlen\u001b[39m(a)\u001b[38;5;241m-\u001b[39mi\n\u001b[1;32m     10\u001b[0m \u001b[38;5;28;01mreturn\u001b[39;00m \u001b[38;5;241m-\u001b[39m\u001b[38;5;241m1\u001b[39m\n",
      "\u001b[0;31mKeyboardInterrupt\u001b[0m: "
     ]
    }
   ],
   "source": [
    "%time reduce(pair_overlap,path)"
   ]
  },
  {
   "cell_type": "code",
   "execution_count": 7,
   "id": "9e8a6faa",
   "metadata": {},
   "outputs": [],
   "source": [
    "a,b = 'GAGTGTTTCTAAAATT', 'AAAATTAAATTTCTA'\n",
    "overlap = is_predecessor(a,b)"
   ]
  },
  {
   "cell_type": "code",
   "execution_count": 19,
   "id": "ca22959b",
   "metadata": {},
   "outputs": [],
   "source": []
  },
  {
   "cell_type": "code",
   "execution_count": 18,
   "id": "646635d1",
   "metadata": {},
   "outputs": [
    {
     "name": "stdout",
     "output_type": "stream",
     "text": [
      "GAGTGTTTCTAAAATT\n",
      "          AAAATTAAATTTCTA\n",
      "GAGTGTTTCTAAAATTAAATTTCTA\n"
     ]
    }
   ],
   "source": [
    "print(a+\"\\n          \"+b)\n",
    "print(a[:-overlap]+b)"
   ]
  },
  {
   "cell_type": "code",
   "execution_count": 15,
   "id": "97129946",
   "metadata": {},
   "outputs": [
    {
     "data": {
      "text/plain": [
       "'AAAATTAAATTTCTA'"
      ]
     },
     "execution_count": 15,
     "metadata": {},
     "output_type": "execute_result"
    }
   ],
   "source": [
    "\n"
   ]
  },
  {
   "cell_type": "code",
   "execution_count": null,
   "id": "4de155d7",
   "metadata": {},
   "outputs": [],
   "source": []
  }
 ],
 "metadata": {
  "kernelspec": {
   "display_name": "Python 3 (ipykernel)",
   "language": "python",
   "name": "python3"
  },
  "language_info": {
   "codemirror_mode": {
    "name": "ipython",
    "version": 3
   },
   "file_extension": ".py",
   "mimetype": "text/x-python",
   "name": "python",
   "nbconvert_exporter": "python",
   "pygments_lexer": "ipython3",
   "version": "3.8.10"
  }
 },
 "nbformat": 4,
 "nbformat_minor": 5
}
