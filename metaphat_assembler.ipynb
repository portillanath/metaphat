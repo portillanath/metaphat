{
 "cells": [
  {
   "cell_type": "code",
   "execution_count": 59,
   "id": "f717ff4f-62d1-4796-8a8a-5427ad6992ff",
   "metadata": {},
   "outputs": [],
   "source": [
    "import signal\n",
    "import networkx as nx\n",
    "import numpy as np\n",
    "import pandas as pd\n",
    "import matplotlib.pyplot as plt\n",
    "from pathlib import Path\n",
    "from tqdm.notebook import tqdm\n",
    "import toolz as tz\n",
    "from multiprocessing import Pool\n",
    "from time import sleep\n",
    "\n",
    "random = np.random.default_rng()\n",
    "\n",
    "class TimeoutException(Exception):\n",
    "    pass\n",
    "def timeout_handler(signum, frame):\n",
    "    raise TimeoutException\n",
    "\n",
    "def is_predecessor(a,b):\n",
    "    \"returns the overlap amount if a is a predecessor of b; -1 otherwise\"\n",
    "    for i in range(len(a)):\n",
    "        if b.startswith(a[i:]):\n",
    "            return len(a)-i\n",
    "    return -1\n",
    "\n",
    "@tz.curry\n",
    "def single_node_overlap_graph(focus_kmer,other_kmers,min_overlap=5):\n",
    "    G = nx.DiGraph()\n",
    "    for k in other_kmers:\n",
    "        if focus_kmer!=k and (overlap:=is_predecessor(focus_kmer,k)) >= min_overlap:\n",
    "            G.add_edge(focus_kmer,k,overlap=overlap)\n",
    "    return G\n",
    "\n",
    "def find_first_possible_pair(graph,):\n",
    "    \"return the first pair of nodes ini->end that are connected\"\n",
    "    inout = pd.DataFrame({\"in_\":dict(graph.in_degree()),\"out\":dict(graph.out_degree())})\n",
    "    inout = inout.sample(frac=1)\n",
    "    ini_nodes = inout.query(\"(in_==0)&(out!=0)\")\n",
    "    end_nodes = inout.query(\"(in_!=0)&(out==0)\")\n",
    "    if ini_nodes.empty or end_nodes.empty:\n",
    "        raise ValueError(\"There are no initial or final nodes; try increasing the minimum overlap in your graph\")\n",
    "    for ini in ini_nodes.index:\n",
    "        for end in end_nodes.index:\n",
    "            if nx.has_path(graph,ini,end):\n",
    "                #print(ini,end)\n",
    "                return (ini,end)\n",
    "    raise ValueError(\"Cannot reach any final nodes from any of the initial nodes\")\n",
    "\n",
    "def approximate_longest_simple_path(graph,weight=\"overlap\",check_first_n=200):\n",
    "    \"return the longest path and its weight\"\n",
    "    pair = find_first_possible_pair(graph)\n",
    "    paths = []\n",
    "    if pair is not None:\n",
    "        path_generator = nx.all_simple_paths(graph,*pair)\n",
    "        for i,path in enumerate(path_generator):\n",
    "            paths.append(path)\n",
    "            if i >= check_first_n:\n",
    "                break\n",
    "        path_overlaps = [nx.path_weight(graph,path,\"overlap\") for path in paths]\n",
    "        return paths[np.argmax(path_overlaps)],np.max(path_overlaps)\n",
    "    else:\n",
    "        return [],0"
   ]
  },
  {
   "cell_type": "code",
   "execution_count": 161,
   "id": "e549eb99-e504-43a0-82c8-45728efe9586",
   "metadata": {},
   "outputs": [],
   "source": [
    "kmers = Path(\"kmers_10000.txt\").read_text().split()\n",
    "min_overlap = 5"
   ]
  },
  {
   "cell_type": "code",
   "execution_count": 162,
   "id": "d75a25d5-5f15-47ee-82ba-2efb3fc9ac9b",
   "metadata": {},
   "outputs": [
    {
     "data": {
      "application/vnd.jupyter.widget-view+json": {
       "model_id": "469fd4ec318f445f9f72a5946bd63139",
       "version_major": 2,
       "version_minor": 0
      },
      "text/plain": [
       "  0%|          | 0/10000 [00:00<?, ?it/s]"
      ]
     },
     "metadata": {},
     "output_type": "display_data"
    }
   ],
   "source": [
    "with Pool(processes=8) as p:\n",
    "    graphs = list(tqdm(\n",
    "        p.imap(single_node_overlap_graph(other_kmers=kmers,min_overlap=min_overlap),kmers),\n",
    "        total=len(kmers)\n",
    "    ))"
   ]
  },
  {
   "cell_type": "code",
   "execution_count": 165,
   "id": "76b84f52-1813-4d42-aae0-02e1b87945de",
   "metadata": {},
   "outputs": [],
   "source": [
    "graphs = [*filter(bool,graphs)]"
   ]
  },
  {
   "cell_type": "code",
   "execution_count": 166,
   "id": "387a6224-b14b-4ef0-a194-7434101a7a90",
   "metadata": {},
   "outputs": [
    {
     "name": "stdout",
     "output_type": "stream",
     "text": [
      "CPU times: user 881 ms, sys: 6.42 ms, total: 887 ms\n",
      "Wall time: 888 ms\n"
     ]
    }
   ],
   "source": [
    "%time G_old = nx.compose_all(graphs)"
   ]
  },
  {
   "cell_type": "code",
   "execution_count": 167,
   "id": "8e0b4d15-dbe8-481b-bab5-f8cf991927ad",
   "metadata": {},
   "outputs": [
    {
     "data": {
      "text/plain": [
       "(170321, 10000)"
      ]
     },
     "execution_count": 167,
     "metadata": {},
     "output_type": "execute_result"
    }
   ],
   "source": [
    "len(G_old.edges),len(G_old.nodes)"
   ]
  },
  {
   "cell_type": "code",
   "execution_count": 173,
   "id": "8f4cee35-a72a-4424-9d06-ab51aa1d7ac2",
   "metadata": {},
   "outputs": [],
   "source": [
    "@tz.curry\n",
    "def find_longest_independent_paths(graph,timeout=10,check_first_n=3):\n",
    "    G = graph.copy()\n",
    "    paths = []\n",
    "    total_overlaps = []\n",
    "    \n",
    "    signal.signal(signal.SIGALRM, timeout_handler)\n",
    "    \n",
    "    for i in tqdm(range(30)):\n",
    "        signal.alarm(10) # limit execution of each iteration to this number of seconds\n",
    "        try:\n",
    "            path,overlap = approximate_longest_simple_path(G,weight=\"overlap\",check_first_n=3)\n",
    "            if len(path) > 5:\n",
    "                paths.append(path)\n",
    "                total_overlaps.append(overlap)\n",
    "                G.remove_nodes_from(path)\n",
    "        except TimeoutException:\n",
    "            print(\"Timed out!\")\n",
    "            continue\n",
    "        else:\n",
    "            signal.alarm(0)\n",
    "        finally:\n",
    "            signal.alarm(0)\n",
    "    path_properties = pd.DataFrame({\n",
    "        \"total overlap\":total_overlaps,\n",
    "        \"path length\":[len(p) for p in paths]\n",
    "    }).sort_values([\"total overlap\",\"path length\"],ascending=False)\n",
    "    return paths,path_properties"
   ]
  },
  {
   "cell_type": "code",
   "execution_count": 193,
   "id": "3e8b613e-8329-4d5e-93d7-a60ca3fb4a89",
   "metadata": {},
   "outputs": [
    {
     "data": {
      "text/plain": [
       "array([0., 0., 0., 0.])"
      ]
     },
     "execution_count": 193,
     "metadata": {},
     "output_type": "execute_result"
    }
   ],
   "source": [
    "np.zeros((100,4))[0]"
   ]
  },
  {
   "cell_type": "code",
   "execution_count": 194,
   "id": "7c6be612-d32a-4f61-8c2f-9d7834dbd7a6",
   "metadata": {
    "scrolled": true
   },
   "outputs": [
    {
     "data": {
      "application/vnd.jupyter.widget-view+json": {
       "model_id": "915214df01b34d08b683818b29381bc2",
       "version_major": 2,
       "version_minor": 0
      },
      "text/plain": [
       "  0%|          | 0/100 [00:00<?, ?it/s]"
      ]
     },
     "metadata": {},
     "output_type": "display_data"
    },
    {
     "data": {
      "application/vnd.jupyter.widget-view+json": {
       "model_id": "19bbcb8d115b40a2be814075c222a0c9",
       "version_major": 2,
       "version_minor": 0
      },
      "text/plain": [
       "  0%|          | 0/30 [00:00<?, ?it/s]"
      ]
     },
     "metadata": {},
     "output_type": "display_data"
    },
    {
     "data": {
      "application/vnd.jupyter.widget-view+json": {
       "model_id": "d451c2e82d754034a039c5ee4857ee7d",
       "version_major": 2,
       "version_minor": 0
      },
      "text/plain": [
       "  0%|          | 0/30 [00:00<?, ?it/s]"
      ]
     },
     "metadata": {},
     "output_type": "display_data"
    },
    {
     "name": "stdout",
     "output_type": "stream",
     "text": [
      "Timed out!\n",
      "Timed out!\n"
     ]
    },
    {
     "data": {
      "application/vnd.jupyter.widget-view+json": {
       "model_id": "80d2a04d5e4f4805adcf80fef8e35218",
       "version_major": 2,
       "version_minor": 0
      },
      "text/plain": [
       "  0%|          | 0/30 [00:00<?, ?it/s]"
      ]
     },
     "metadata": {},
     "output_type": "display_data"
    },
    {
     "data": {
      "application/vnd.jupyter.widget-view+json": {
       "model_id": "454b87d009b8408db60bf07d3a4ea5f8",
       "version_major": 2,
       "version_minor": 0
      },
      "text/plain": [
       "  0%|          | 0/30 [00:00<?, ?it/s]"
      ]
     },
     "metadata": {},
     "output_type": "display_data"
    },
    {
     "data": {
      "application/vnd.jupyter.widget-view+json": {
       "model_id": "8a596bff09de40b9ae099e0a2ece15ac",
       "version_major": 2,
       "version_minor": 0
      },
      "text/plain": [
       "  0%|          | 0/30 [00:00<?, ?it/s]"
      ]
     },
     "metadata": {},
     "output_type": "display_data"
    },
    {
     "data": {
      "application/vnd.jupyter.widget-view+json": {
       "model_id": "4c7823713e7544ef8e6e4a89e400c687",
       "version_major": 2,
       "version_minor": 0
      },
      "text/plain": [
       "  0%|          | 0/30 [00:00<?, ?it/s]"
      ]
     },
     "metadata": {},
     "output_type": "display_data"
    },
    {
     "data": {
      "application/vnd.jupyter.widget-view+json": {
       "model_id": "fe732736083e466982a45b8a2acc9620",
       "version_major": 2,
       "version_minor": 0
      },
      "text/plain": [
       "  0%|          | 0/30 [00:00<?, ?it/s]"
      ]
     },
     "metadata": {},
     "output_type": "display_data"
    },
    {
     "data": {
      "application/vnd.jupyter.widget-view+json": {
       "model_id": "0ecf912c5512470985e0851943626b1a",
       "version_major": 2,
       "version_minor": 0
      },
      "text/plain": [
       "  0%|          | 0/30 [00:00<?, ?it/s]"
      ]
     },
     "metadata": {},
     "output_type": "display_data"
    },
    {
     "name": "stdout",
     "output_type": "stream",
     "text": [
      "Timed out!\n",
      "Timed out!\n",
      "Timed out!\n"
     ]
    },
    {
     "data": {
      "application/vnd.jupyter.widget-view+json": {
       "model_id": "c16a762105504f0db71c4eb9c09f7c79",
       "version_major": 2,
       "version_minor": 0
      },
      "text/plain": [
       "  0%|          | 0/30 [00:00<?, ?it/s]"
      ]
     },
     "metadata": {},
     "output_type": "display_data"
    },
    {
     "data": {
      "application/vnd.jupyter.widget-view+json": {
       "model_id": "c4f42bda01e742b3b674fbdfa8014cd4",
       "version_major": 2,
       "version_minor": 0
      },
      "text/plain": [
       "  0%|          | 0/30 [00:00<?, ?it/s]"
      ]
     },
     "metadata": {},
     "output_type": "display_data"
    },
    {
     "data": {
      "application/vnd.jupyter.widget-view+json": {
       "model_id": "5dc80240a29947708c356715372df39c",
       "version_major": 2,
       "version_minor": 0
      },
      "text/plain": [
       "  0%|          | 0/30 [00:00<?, ?it/s]"
      ]
     },
     "metadata": {},
     "output_type": "display_data"
    },
    {
     "name": "stdout",
     "output_type": "stream",
     "text": [
      "Timed out!\n",
      "Timed out!\n"
     ]
    },
    {
     "data": {
      "application/vnd.jupyter.widget-view+json": {
       "model_id": "4dee054695d2465688241d0e8b127c8b",
       "version_major": 2,
       "version_minor": 0
      },
      "text/plain": [
       "  0%|          | 0/30 [00:00<?, ?it/s]"
      ]
     },
     "metadata": {},
     "output_type": "display_data"
    },
    {
     "data": {
      "application/vnd.jupyter.widget-view+json": {
       "model_id": "db8eb59a47cb4b93b6fba3d24064ead0",
       "version_major": 2,
       "version_minor": 0
      },
      "text/plain": [
       "  0%|          | 0/30 [00:00<?, ?it/s]"
      ]
     },
     "metadata": {},
     "output_type": "display_data"
    },
    {
     "data": {
      "application/vnd.jupyter.widget-view+json": {
       "model_id": "15ad06aed6af4ac7a0162ca2283a7136",
       "version_major": 2,
       "version_minor": 0
      },
      "text/plain": [
       "  0%|          | 0/30 [00:00<?, ?it/s]"
      ]
     },
     "metadata": {},
     "output_type": "display_data"
    },
    {
     "data": {
      "application/vnd.jupyter.widget-view+json": {
       "model_id": "964a6f97bd7b4df396902b421e6db42e",
       "version_major": 2,
       "version_minor": 0
      },
      "text/plain": [
       "  0%|          | 0/30 [00:00<?, ?it/s]"
      ]
     },
     "metadata": {},
     "output_type": "display_data"
    },
    {
     "name": "stdout",
     "output_type": "stream",
     "text": [
      "Timed out!\n"
     ]
    },
    {
     "data": {
      "application/vnd.jupyter.widget-view+json": {
       "model_id": "0a84b22d83144770a02d43134592e449",
       "version_major": 2,
       "version_minor": 0
      },
      "text/plain": [
       "  0%|          | 0/30 [00:00<?, ?it/s]"
      ]
     },
     "metadata": {},
     "output_type": "display_data"
    },
    {
     "data": {
      "application/vnd.jupyter.widget-view+json": {
       "model_id": "5c91ef207e954b42996fbd5da452d860",
       "version_major": 2,
       "version_minor": 0
      },
      "text/plain": [
       "  0%|          | 0/30 [00:00<?, ?it/s]"
      ]
     },
     "metadata": {},
     "output_type": "display_data"
    },
    {
     "data": {
      "application/vnd.jupyter.widget-view+json": {
       "model_id": "16917988819842038e8102e67e09c209",
       "version_major": 2,
       "version_minor": 0
      },
      "text/plain": [
       "  0%|          | 0/30 [00:00<?, ?it/s]"
      ]
     },
     "metadata": {},
     "output_type": "display_data"
    },
    {
     "name": "stdout",
     "output_type": "stream",
     "text": [
      "Timed out!\n"
     ]
    },
    {
     "data": {
      "application/vnd.jupyter.widget-view+json": {
       "model_id": "ad98cdd95e764637bbaf1c808d1eea33",
       "version_major": 2,
       "version_minor": 0
      },
      "text/plain": [
       "  0%|          | 0/30 [00:00<?, ?it/s]"
      ]
     },
     "metadata": {},
     "output_type": "display_data"
    },
    {
     "name": "stdout",
     "output_type": "stream",
     "text": [
      "Timed out!\n"
     ]
    },
    {
     "data": {
      "application/vnd.jupyter.widget-view+json": {
       "model_id": "b95e37028696463aa09c5902c65e4722",
       "version_major": 2,
       "version_minor": 0
      },
      "text/plain": [
       "  0%|          | 0/30 [00:00<?, ?it/s]"
      ]
     },
     "metadata": {},
     "output_type": "display_data"
    },
    {
     "data": {
      "application/vnd.jupyter.widget-view+json": {
       "model_id": "a1b2b3eb98cc4cd7bf5edebf713a1c8c",
       "version_major": 2,
       "version_minor": 0
      },
      "text/plain": [
       "  0%|          | 0/30 [00:00<?, ?it/s]"
      ]
     },
     "metadata": {},
     "output_type": "display_data"
    },
    {
     "data": {
      "application/vnd.jupyter.widget-view+json": {
       "model_id": "425df2bfc753460981a2e372ce604e14",
       "version_major": 2,
       "version_minor": 0
      },
      "text/plain": [
       "  0%|          | 0/30 [00:00<?, ?it/s]"
      ]
     },
     "metadata": {},
     "output_type": "display_data"
    },
    {
     "data": {
      "application/vnd.jupyter.widget-view+json": {
       "model_id": "c9eeb94b133f4670bbf58495c7a0c3c4",
       "version_major": 2,
       "version_minor": 0
      },
      "text/plain": [
       "  0%|          | 0/30 [00:00<?, ?it/s]"
      ]
     },
     "metadata": {},
     "output_type": "display_data"
    },
    {
     "data": {
      "application/vnd.jupyter.widget-view+json": {
       "model_id": "7bb913d009e94c5e81734b4860be9f32",
       "version_major": 2,
       "version_minor": 0
      },
      "text/plain": [
       "  0%|          | 0/30 [00:00<?, ?it/s]"
      ]
     },
     "metadata": {},
     "output_type": "display_data"
    },
    {
     "data": {
      "application/vnd.jupyter.widget-view+json": {
       "model_id": "6ac8e166ad0b4947b69a157aa387046c",
       "version_major": 2,
       "version_minor": 0
      },
      "text/plain": [
       "  0%|          | 0/30 [00:00<?, ?it/s]"
      ]
     },
     "metadata": {},
     "output_type": "display_data"
    },
    {
     "data": {
      "application/vnd.jupyter.widget-view+json": {
       "model_id": "e8d2ce9b4a044c02b1971222b277c4ea",
       "version_major": 2,
       "version_minor": 0
      },
      "text/plain": [
       "  0%|          | 0/30 [00:00<?, ?it/s]"
      ]
     },
     "metadata": {},
     "output_type": "display_data"
    },
    {
     "data": {
      "application/vnd.jupyter.widget-view+json": {
       "model_id": "2c96e1524c4945f3a56282131b5aa882",
       "version_major": 2,
       "version_minor": 0
      },
      "text/plain": [
       "  0%|          | 0/30 [00:00<?, ?it/s]"
      ]
     },
     "metadata": {},
     "output_type": "display_data"
    },
    {
     "name": "stdout",
     "output_type": "stream",
     "text": [
      "Timed out!\n"
     ]
    },
    {
     "data": {
      "application/vnd.jupyter.widget-view+json": {
       "model_id": "be1b2eb0289241f09f9ad2d8e4c3178b",
       "version_major": 2,
       "version_minor": 0
      },
      "text/plain": [
       "  0%|          | 0/30 [00:00<?, ?it/s]"
      ]
     },
     "metadata": {},
     "output_type": "display_data"
    },
    {
     "name": "stdout",
     "output_type": "stream",
     "text": [
      "Timed out!\n",
      "Timed out!\n",
      "Timed out!\n"
     ]
    },
    {
     "data": {
      "application/vnd.jupyter.widget-view+json": {
       "model_id": "0e744d4887d1457a86feece46683ad69",
       "version_major": 2,
       "version_minor": 0
      },
      "text/plain": [
       "  0%|          | 0/30 [00:00<?, ?it/s]"
      ]
     },
     "metadata": {},
     "output_type": "display_data"
    },
    {
     "data": {
      "application/vnd.jupyter.widget-view+json": {
       "model_id": "062b5eaca8a74bab93f96daccac382e0",
       "version_major": 2,
       "version_minor": 0
      },
      "text/plain": [
       "  0%|          | 0/30 [00:00<?, ?it/s]"
      ]
     },
     "metadata": {},
     "output_type": "display_data"
    },
    {
     "name": "stdout",
     "output_type": "stream",
     "text": [
      "Timed out!\n"
     ]
    },
    {
     "data": {
      "application/vnd.jupyter.widget-view+json": {
       "model_id": "5a92b73dee8e40e5b6d6a03ddc7bae5e",
       "version_major": 2,
       "version_minor": 0
      },
      "text/plain": [
       "  0%|          | 0/30 [00:00<?, ?it/s]"
      ]
     },
     "metadata": {},
     "output_type": "display_data"
    },
    {
     "name": "stdout",
     "output_type": "stream",
     "text": [
      "Timed out!\n",
      "Timed out!\n",
      "Timed out!\n",
      "Timed out!\n",
      "Timed out!\n"
     ]
    },
    {
     "data": {
      "application/vnd.jupyter.widget-view+json": {
       "model_id": "4e890833469040e4a540eb523e81ef3f",
       "version_major": 2,
       "version_minor": 0
      },
      "text/plain": [
       "  0%|          | 0/30 [00:00<?, ?it/s]"
      ]
     },
     "metadata": {},
     "output_type": "display_data"
    },
    {
     "data": {
      "application/vnd.jupyter.widget-view+json": {
       "model_id": "8bf3acdd24044ddba5a25c91fdb291d8",
       "version_major": 2,
       "version_minor": 0
      },
      "text/plain": [
       "  0%|          | 0/30 [00:00<?, ?it/s]"
      ]
     },
     "metadata": {},
     "output_type": "display_data"
    },
    {
     "data": {
      "application/vnd.jupyter.widget-view+json": {
       "model_id": "b5714281599a4e2fae9c646e274bb96e",
       "version_major": 2,
       "version_minor": 0
      },
      "text/plain": [
       "  0%|          | 0/30 [00:00<?, ?it/s]"
      ]
     },
     "metadata": {},
     "output_type": "display_data"
    },
    {
     "data": {
      "application/vnd.jupyter.widget-view+json": {
       "model_id": "f527efdc4f674c58a034846ba4e3f20d",
       "version_major": 2,
       "version_minor": 0
      },
      "text/plain": [
       "  0%|          | 0/30 [00:00<?, ?it/s]"
      ]
     },
     "metadata": {},
     "output_type": "display_data"
    },
    {
     "data": {
      "application/vnd.jupyter.widget-view+json": {
       "model_id": "32a8c01bba5e467fa9f16eb149bcda09",
       "version_major": 2,
       "version_minor": 0
      },
      "text/plain": [
       "  0%|          | 0/30 [00:00<?, ?it/s]"
      ]
     },
     "metadata": {},
     "output_type": "display_data"
    },
    {
     "data": {
      "application/vnd.jupyter.widget-view+json": {
       "model_id": "d81f898d0d2c462e9bd1c8cc6db1ea6a",
       "version_major": 2,
       "version_minor": 0
      },
      "text/plain": [
       "  0%|          | 0/30 [00:00<?, ?it/s]"
      ]
     },
     "metadata": {},
     "output_type": "display_data"
    },
    {
     "name": "stdout",
     "output_type": "stream",
     "text": [
      "Timed out!\n"
     ]
    },
    {
     "data": {
      "application/vnd.jupyter.widget-view+json": {
       "model_id": "576cf9210bd34ca3b49b3c11d997bd93",
       "version_major": 2,
       "version_minor": 0
      },
      "text/plain": [
       "  0%|          | 0/30 [00:00<?, ?it/s]"
      ]
     },
     "metadata": {},
     "output_type": "display_data"
    },
    {
     "data": {
      "application/vnd.jupyter.widget-view+json": {
       "model_id": "261f2e4044a2483eb2674bec0ab06769",
       "version_major": 2,
       "version_minor": 0
      },
      "text/plain": [
       "  0%|          | 0/30 [00:00<?, ?it/s]"
      ]
     },
     "metadata": {},
     "output_type": "display_data"
    },
    {
     "name": "stdout",
     "output_type": "stream",
     "text": [
      "Timed out!\n",
      "Timed out!\n",
      "Timed out!\n"
     ]
    },
    {
     "data": {
      "application/vnd.jupyter.widget-view+json": {
       "model_id": "7d468b5cd9094df8a8d85696dac075e2",
       "version_major": 2,
       "version_minor": 0
      },
      "text/plain": [
       "  0%|          | 0/30 [00:00<?, ?it/s]"
      ]
     },
     "metadata": {},
     "output_type": "display_data"
    },
    {
     "data": {
      "application/vnd.jupyter.widget-view+json": {
       "model_id": "08a954a8e8f5471c85ef39047b28ef7c",
       "version_major": 2,
       "version_minor": 0
      },
      "text/plain": [
       "  0%|          | 0/30 [00:00<?, ?it/s]"
      ]
     },
     "metadata": {},
     "output_type": "display_data"
    },
    {
     "data": {
      "application/vnd.jupyter.widget-view+json": {
       "model_id": "c11b38945bb64ce3a562f2357ec932e2",
       "version_major": 2,
       "version_minor": 0
      },
      "text/plain": [
       "  0%|          | 0/30 [00:00<?, ?it/s]"
      ]
     },
     "metadata": {},
     "output_type": "display_data"
    },
    {
     "name": "stdout",
     "output_type": "stream",
     "text": [
      "Timed out!\n"
     ]
    },
    {
     "data": {
      "application/vnd.jupyter.widget-view+json": {
       "model_id": "5deba5c5b9574eb1862969b5244772d3",
       "version_major": 2,
       "version_minor": 0
      },
      "text/plain": [
       "  0%|          | 0/30 [00:00<?, ?it/s]"
      ]
     },
     "metadata": {},
     "output_type": "display_data"
    },
    {
     "data": {
      "application/vnd.jupyter.widget-view+json": {
       "model_id": "8f6f234b96ce4a9ab4a3e45180ac161a",
       "version_major": 2,
       "version_minor": 0
      },
      "text/plain": [
       "  0%|          | 0/30 [00:00<?, ?it/s]"
      ]
     },
     "metadata": {},
     "output_type": "display_data"
    },
    {
     "name": "stdout",
     "output_type": "stream",
     "text": [
      "Timed out!\n",
      "Timed out!\n"
     ]
    },
    {
     "data": {
      "application/vnd.jupyter.widget-view+json": {
       "model_id": "9e1f473f187d40ea8c7c4c0d12805c4f",
       "version_major": 2,
       "version_minor": 0
      },
      "text/plain": [
       "  0%|          | 0/30 [00:00<?, ?it/s]"
      ]
     },
     "metadata": {},
     "output_type": "display_data"
    },
    {
     "name": "stdout",
     "output_type": "stream",
     "text": [
      "Timed out!\n",
      "Timed out!\n",
      "Timed out!\n"
     ]
    },
    {
     "data": {
      "application/vnd.jupyter.widget-view+json": {
       "model_id": "2264b57fd47440c4837c0dae35a003e1",
       "version_major": 2,
       "version_minor": 0
      },
      "text/plain": [
       "  0%|          | 0/30 [00:00<?, ?it/s]"
      ]
     },
     "metadata": {},
     "output_type": "display_data"
    },
    {
     "name": "stdout",
     "output_type": "stream",
     "text": [
      "Timed out!\n"
     ]
    },
    {
     "data": {
      "application/vnd.jupyter.widget-view+json": {
       "model_id": "29e2ad0d1c4149c18fd86612c3c24051",
       "version_major": 2,
       "version_minor": 0
      },
      "text/plain": [
       "  0%|          | 0/30 [00:00<?, ?it/s]"
      ]
     },
     "metadata": {},
     "output_type": "display_data"
    },
    {
     "name": "stdout",
     "output_type": "stream",
     "text": [
      "Timed out!\n"
     ]
    },
    {
     "data": {
      "application/vnd.jupyter.widget-view+json": {
       "model_id": "8696926899ff42cda9527ea4eca72755",
       "version_major": 2,
       "version_minor": 0
      },
      "text/plain": [
       "  0%|          | 0/30 [00:00<?, ?it/s]"
      ]
     },
     "metadata": {},
     "output_type": "display_data"
    },
    {
     "data": {
      "application/vnd.jupyter.widget-view+json": {
       "model_id": "b311180ba3e94c98a7dbc8297f154cd4",
       "version_major": 2,
       "version_minor": 0
      },
      "text/plain": [
       "  0%|          | 0/30 [00:00<?, ?it/s]"
      ]
     },
     "metadata": {},
     "output_type": "display_data"
    },
    {
     "data": {
      "application/vnd.jupyter.widget-view+json": {
       "model_id": "620fb5522e9a4cdf9c41a889e7fd91f3",
       "version_major": 2,
       "version_minor": 0
      },
      "text/plain": [
       "  0%|          | 0/30 [00:00<?, ?it/s]"
      ]
     },
     "metadata": {},
     "output_type": "display_data"
    },
    {
     "data": {
      "application/vnd.jupyter.widget-view+json": {
       "model_id": "6884c3c934a54a009273bd7e1f7545e0",
       "version_major": 2,
       "version_minor": 0
      },
      "text/plain": [
       "  0%|          | 0/30 [00:00<?, ?it/s]"
      ]
     },
     "metadata": {},
     "output_type": "display_data"
    },
    {
     "name": "stdout",
     "output_type": "stream",
     "text": [
      "Timed out!\n",
      "Timed out!\n"
     ]
    },
    {
     "data": {
      "application/vnd.jupyter.widget-view+json": {
       "model_id": "2b927e4782d140479a2b2303b6eb985e",
       "version_major": 2,
       "version_minor": 0
      },
      "text/plain": [
       "  0%|          | 0/30 [00:00<?, ?it/s]"
      ]
     },
     "metadata": {},
     "output_type": "display_data"
    },
    {
     "name": "stdout",
     "output_type": "stream",
     "text": [
      "Timed out!\n",
      "Timed out!\n",
      "Timed out!\n"
     ]
    },
    {
     "data": {
      "application/vnd.jupyter.widget-view+json": {
       "model_id": "6691c5833fea480b9cf0429c71e29f8f",
       "version_major": 2,
       "version_minor": 0
      },
      "text/plain": [
       "  0%|          | 0/30 [00:00<?, ?it/s]"
      ]
     },
     "metadata": {},
     "output_type": "display_data"
    },
    {
     "data": {
      "application/vnd.jupyter.widget-view+json": {
       "model_id": "df12f74b1c4141f1adb4516177c9d935",
       "version_major": 2,
       "version_minor": 0
      },
      "text/plain": [
       "  0%|          | 0/30 [00:00<?, ?it/s]"
      ]
     },
     "metadata": {},
     "output_type": "display_data"
    },
    {
     "data": {
      "application/vnd.jupyter.widget-view+json": {
       "model_id": "5436c9f4448a44aeb28c4054684c9a38",
       "version_major": 2,
       "version_minor": 0
      },
      "text/plain": [
       "  0%|          | 0/30 [00:00<?, ?it/s]"
      ]
     },
     "metadata": {},
     "output_type": "display_data"
    },
    {
     "data": {
      "application/vnd.jupyter.widget-view+json": {
       "model_id": "25b3dc5ea1ea41e2821bcf37024b3ead",
       "version_major": 2,
       "version_minor": 0
      },
      "text/plain": [
       "  0%|          | 0/30 [00:00<?, ?it/s]"
      ]
     },
     "metadata": {},
     "output_type": "display_data"
    },
    {
     "name": "stdout",
     "output_type": "stream",
     "text": [
      "Timed out!\n",
      "Timed out!\n"
     ]
    },
    {
     "data": {
      "application/vnd.jupyter.widget-view+json": {
       "model_id": "c418924a9f2b45b78971840c21fec2b3",
       "version_major": 2,
       "version_minor": 0
      },
      "text/plain": [
       "  0%|          | 0/30 [00:00<?, ?it/s]"
      ]
     },
     "metadata": {},
     "output_type": "display_data"
    },
    {
     "name": "stdout",
     "output_type": "stream",
     "text": [
      "Timed out!\n"
     ]
    },
    {
     "data": {
      "application/vnd.jupyter.widget-view+json": {
       "model_id": "5bcc1a761f5b404e834e5c18e11f49fc",
       "version_major": 2,
       "version_minor": 0
      },
      "text/plain": [
       "  0%|          | 0/30 [00:00<?, ?it/s]"
      ]
     },
     "metadata": {},
     "output_type": "display_data"
    },
    {
     "data": {
      "application/vnd.jupyter.widget-view+json": {
       "model_id": "77c8bc00b7524bfca3a8a3479f55cd91",
       "version_major": 2,
       "version_minor": 0
      },
      "text/plain": [
       "  0%|          | 0/30 [00:00<?, ?it/s]"
      ]
     },
     "metadata": {},
     "output_type": "display_data"
    },
    {
     "name": "stdout",
     "output_type": "stream",
     "text": [
      "Timed out!\n"
     ]
    },
    {
     "data": {
      "application/vnd.jupyter.widget-view+json": {
       "model_id": "38e8499b6365474586c6a0d1f2182378",
       "version_major": 2,
       "version_minor": 0
      },
      "text/plain": [
       "  0%|          | 0/30 [00:00<?, ?it/s]"
      ]
     },
     "metadata": {},
     "output_type": "display_data"
    },
    {
     "name": "stdout",
     "output_type": "stream",
     "text": [
      "Timed out!\n",
      "Timed out!\n"
     ]
    },
    {
     "data": {
      "application/vnd.jupyter.widget-view+json": {
       "model_id": "d8772a0cf2f8409fb3c900f75e78b555",
       "version_major": 2,
       "version_minor": 0
      },
      "text/plain": [
       "  0%|          | 0/30 [00:00<?, ?it/s]"
      ]
     },
     "metadata": {},
     "output_type": "display_data"
    },
    {
     "data": {
      "application/vnd.jupyter.widget-view+json": {
       "model_id": "17bbc5af26594eedb961e1dcfc32707b",
       "version_major": 2,
       "version_minor": 0
      },
      "text/plain": [
       "  0%|          | 0/30 [00:00<?, ?it/s]"
      ]
     },
     "metadata": {},
     "output_type": "display_data"
    },
    {
     "data": {
      "application/vnd.jupyter.widget-view+json": {
       "model_id": "b40e6c4e6cc34a05ac3c308b7b9d61b9",
       "version_major": 2,
       "version_minor": 0
      },
      "text/plain": [
       "  0%|          | 0/30 [00:00<?, ?it/s]"
      ]
     },
     "metadata": {},
     "output_type": "display_data"
    },
    {
     "data": {
      "application/vnd.jupyter.widget-view+json": {
       "model_id": "19de6f958ca14922a10ed640c4aafdbf",
       "version_major": 2,
       "version_minor": 0
      },
      "text/plain": [
       "  0%|          | 0/30 [00:00<?, ?it/s]"
      ]
     },
     "metadata": {},
     "output_type": "display_data"
    },
    {
     "name": "stdout",
     "output_type": "stream",
     "text": [
      "Timed out!\n",
      "Timed out!\n"
     ]
    },
    {
     "data": {
      "application/vnd.jupyter.widget-view+json": {
       "model_id": "e65acbff3bc6424cb07172b003acb96a",
       "version_major": 2,
       "version_minor": 0
      },
      "text/plain": [
       "  0%|          | 0/30 [00:00<?, ?it/s]"
      ]
     },
     "metadata": {},
     "output_type": "display_data"
    },
    {
     "data": {
      "application/vnd.jupyter.widget-view+json": {
       "model_id": "e1d8e489a032482ea4cecb9c7828d069",
       "version_major": 2,
       "version_minor": 0
      },
      "text/plain": [
       "  0%|          | 0/30 [00:00<?, ?it/s]"
      ]
     },
     "metadata": {},
     "output_type": "display_data"
    },
    {
     "name": "stdout",
     "output_type": "stream",
     "text": [
      "Timed out!\n"
     ]
    },
    {
     "data": {
      "application/vnd.jupyter.widget-view+json": {
       "model_id": "6b97bfb5a0ab44ecb230f98b397b5c56",
       "version_major": 2,
       "version_minor": 0
      },
      "text/plain": [
       "  0%|          | 0/30 [00:00<?, ?it/s]"
      ]
     },
     "metadata": {},
     "output_type": "display_data"
    },
    {
     "data": {
      "application/vnd.jupyter.widget-view+json": {
       "model_id": "3252731745be46298e9acff47b061ea9",
       "version_major": 2,
       "version_minor": 0
      },
      "text/plain": [
       "  0%|          | 0/30 [00:00<?, ?it/s]"
      ]
     },
     "metadata": {},
     "output_type": "display_data"
    },
    {
     "name": "stdout",
     "output_type": "stream",
     "text": [
      "Timed out!\n"
     ]
    },
    {
     "data": {
      "application/vnd.jupyter.widget-view+json": {
       "model_id": "07237a5c0c24463d82eff00c91c611ff",
       "version_major": 2,
       "version_minor": 0
      },
      "text/plain": [
       "  0%|          | 0/30 [00:00<?, ?it/s]"
      ]
     },
     "metadata": {},
     "output_type": "display_data"
    },
    {
     "data": {
      "application/vnd.jupyter.widget-view+json": {
       "model_id": "7ab760eefd50419facc5e578da3cdd2a",
       "version_major": 2,
       "version_minor": 0
      },
      "text/plain": [
       "  0%|          | 0/30 [00:00<?, ?it/s]"
      ]
     },
     "metadata": {},
     "output_type": "display_data"
    },
    {
     "data": {
      "application/vnd.jupyter.widget-view+json": {
       "model_id": "f270bb980c224442870e11a47c350cff",
       "version_major": 2,
       "version_minor": 0
      },
      "text/plain": [
       "  0%|          | 0/30 [00:00<?, ?it/s]"
      ]
     },
     "metadata": {},
     "output_type": "display_data"
    },
    {
     "data": {
      "application/vnd.jupyter.widget-view+json": {
       "model_id": "f3b96aaa0bae413fa6b45fd9e3e6cdd6",
       "version_major": 2,
       "version_minor": 0
      },
      "text/plain": [
       "  0%|          | 0/30 [00:00<?, ?it/s]"
      ]
     },
     "metadata": {},
     "output_type": "display_data"
    },
    {
     "name": "stdout",
     "output_type": "stream",
     "text": [
      "Timed out!\n",
      "Timed out!\n"
     ]
    },
    {
     "data": {
      "application/vnd.jupyter.widget-view+json": {
       "model_id": "52d1aa6e23e5459a93bff9e003ea9ea0",
       "version_major": 2,
       "version_minor": 0
      },
      "text/plain": [
       "  0%|          | 0/30 [00:00<?, ?it/s]"
      ]
     },
     "metadata": {},
     "output_type": "display_data"
    },
    {
     "name": "stdout",
     "output_type": "stream",
     "text": [
      "Timed out!\n"
     ]
    },
    {
     "data": {
      "application/vnd.jupyter.widget-view+json": {
       "model_id": "dfbf9cb6b57b4a77bc3503af415d7348",
       "version_major": 2,
       "version_minor": 0
      },
      "text/plain": [
       "  0%|          | 0/30 [00:00<?, ?it/s]"
      ]
     },
     "metadata": {},
     "output_type": "display_data"
    },
    {
     "data": {
      "application/vnd.jupyter.widget-view+json": {
       "model_id": "2b2a2ad9f447472e8bc2a4248e3290d8",
       "version_major": 2,
       "version_minor": 0
      },
      "text/plain": [
       "  0%|          | 0/30 [00:00<?, ?it/s]"
      ]
     },
     "metadata": {},
     "output_type": "display_data"
    },
    {
     "data": {
      "application/vnd.jupyter.widget-view+json": {
       "model_id": "a80c6d32a4b64ababdf5f4800b8dd349",
       "version_major": 2,
       "version_minor": 0
      },
      "text/plain": [
       "  0%|          | 0/30 [00:00<?, ?it/s]"
      ]
     },
     "metadata": {},
     "output_type": "display_data"
    },
    {
     "data": {
      "application/vnd.jupyter.widget-view+json": {
       "model_id": "9ba7dd10d7e145c2af5384474f29464e",
       "version_major": 2,
       "version_minor": 0
      },
      "text/plain": [
       "  0%|          | 0/30 [00:00<?, ?it/s]"
      ]
     },
     "metadata": {},
     "output_type": "display_data"
    },
    {
     "name": "stdout",
     "output_type": "stream",
     "text": [
      "Timed out!\n",
      "Timed out!\n"
     ]
    },
    {
     "data": {
      "application/vnd.jupyter.widget-view+json": {
       "model_id": "9ab6d2ef2b2b4018a7ea7526e1647160",
       "version_major": 2,
       "version_minor": 0
      },
      "text/plain": [
       "  0%|          | 0/30 [00:00<?, ?it/s]"
      ]
     },
     "metadata": {},
     "output_type": "display_data"
    },
    {
     "name": "stdout",
     "output_type": "stream",
     "text": [
      "Timed out!\n",
      "Timed out!\n"
     ]
    },
    {
     "data": {
      "application/vnd.jupyter.widget-view+json": {
       "model_id": "a15d2eebff53486a982bb9a0a123dfbb",
       "version_major": 2,
       "version_minor": 0
      },
      "text/plain": [
       "  0%|          | 0/30 [00:00<?, ?it/s]"
      ]
     },
     "metadata": {},
     "output_type": "display_data"
    },
    {
     "data": {
      "application/vnd.jupyter.widget-view+json": {
       "model_id": "f078ad7d02f040708be7618ee1423819",
       "version_major": 2,
       "version_minor": 0
      },
      "text/plain": [
       "  0%|          | 0/30 [00:00<?, ?it/s]"
      ]
     },
     "metadata": {},
     "output_type": "display_data"
    },
    {
     "data": {
      "application/vnd.jupyter.widget-view+json": {
       "model_id": "c673681eeaff4077911d65d3bd59822c",
       "version_major": 2,
       "version_minor": 0
      },
      "text/plain": [
       "  0%|          | 0/30 [00:00<?, ?it/s]"
      ]
     },
     "metadata": {},
     "output_type": "display_data"
    },
    {
     "data": {
      "application/vnd.jupyter.widget-view+json": {
       "model_id": "0a13855ab9724a23824cf8bda3d73dd3",
       "version_major": 2,
       "version_minor": 0
      },
      "text/plain": [
       "  0%|          | 0/30 [00:00<?, ?it/s]"
      ]
     },
     "metadata": {},
     "output_type": "display_data"
    },
    {
     "data": {
      "application/vnd.jupyter.widget-view+json": {
       "model_id": "25ea28202f404fbcbd6443d8cc53033f",
       "version_major": 2,
       "version_minor": 0
      },
      "text/plain": [
       "  0%|          | 0/30 [00:00<?, ?it/s]"
      ]
     },
     "metadata": {},
     "output_type": "display_data"
    },
    {
     "name": "stdout",
     "output_type": "stream",
     "text": [
      "Timed out!\n"
     ]
    },
    {
     "data": {
      "application/vnd.jupyter.widget-view+json": {
       "model_id": "0ecf076de0f94041916e4dab91179b98",
       "version_major": 2,
       "version_minor": 0
      },
      "text/plain": [
       "  0%|          | 0/30 [00:00<?, ?it/s]"
      ]
     },
     "metadata": {},
     "output_type": "display_data"
    },
    {
     "data": {
      "application/vnd.jupyter.widget-view+json": {
       "model_id": "987af2460df349d197069bd4e145353f",
       "version_major": 2,
       "version_minor": 0
      },
      "text/plain": [
       "  0%|          | 0/30 [00:00<?, ?it/s]"
      ]
     },
     "metadata": {},
     "output_type": "display_data"
    },
    {
     "name": "stdout",
     "output_type": "stream",
     "text": [
      "Timed out!\n",
      "Timed out!\n",
      "Timed out!\n",
      "Timed out!\n",
      "Timed out!\n"
     ]
    },
    {
     "data": {
      "application/vnd.jupyter.widget-view+json": {
       "model_id": "baa511c3e2ef43caa180966316e730b5",
       "version_major": 2,
       "version_minor": 0
      },
      "text/plain": [
       "  0%|          | 0/30 [00:00<?, ?it/s]"
      ]
     },
     "metadata": {},
     "output_type": "display_data"
    },
    {
     "data": {
      "application/vnd.jupyter.widget-view+json": {
       "model_id": "b8fbc4318f404189b41519b7cc1391de",
       "version_major": 2,
       "version_minor": 0
      },
      "text/plain": [
       "  0%|          | 0/30 [00:00<?, ?it/s]"
      ]
     },
     "metadata": {},
     "output_type": "display_data"
    },
    {
     "data": {
      "application/vnd.jupyter.widget-view+json": {
       "model_id": "370d74cea07542a1a63242cf17cb17b0",
       "version_major": 2,
       "version_minor": 0
      },
      "text/plain": [
       "  0%|          | 0/30 [00:00<?, ?it/s]"
      ]
     },
     "metadata": {},
     "output_type": "display_data"
    },
    {
     "data": {
      "application/vnd.jupyter.widget-view+json": {
       "model_id": "9ab3fb8980074ec3806c5f19567b319a",
       "version_major": 2,
       "version_minor": 0
      },
      "text/plain": [
       "  0%|          | 0/30 [00:00<?, ?it/s]"
      ]
     },
     "metadata": {},
     "output_type": "display_data"
    },
    {
     "data": {
      "application/vnd.jupyter.widget-view+json": {
       "model_id": "a2a3d5d47066447296116edafcf257cf",
       "version_major": 2,
       "version_minor": 0
      },
      "text/plain": [
       "  0%|          | 0/30 [00:00<?, ?it/s]"
      ]
     },
     "metadata": {},
     "output_type": "display_data"
    },
    {
     "data": {
      "application/vnd.jupyter.widget-view+json": {
       "model_id": "c6ee045d2d174643b91104b1ce007fcd",
       "version_major": 2,
       "version_minor": 0
      },
      "text/plain": [
       "  0%|          | 0/30 [00:00<?, ?it/s]"
      ]
     },
     "metadata": {},
     "output_type": "display_data"
    },
    {
     "data": {
      "application/vnd.jupyter.widget-view+json": {
       "model_id": "d5a997d28b93449295cce6fc40cd2d30",
       "version_major": 2,
       "version_minor": 0
      },
      "text/plain": [
       "  0%|          | 0/30 [00:00<?, ?it/s]"
      ]
     },
     "metadata": {},
     "output_type": "display_data"
    },
    {
     "data": {
      "application/vnd.jupyter.widget-view+json": {
       "model_id": "7bcc5d2255ad465da80060b7c0f15d27",
       "version_major": 2,
       "version_minor": 0
      },
      "text/plain": [
       "  0%|          | 0/30 [00:00<?, ?it/s]"
      ]
     },
     "metadata": {},
     "output_type": "display_data"
    },
    {
     "name": "stdout",
     "output_type": "stream",
     "text": [
      "Timed out!\n",
      "Timed out!\n",
      "Timed out!\n"
     ]
    },
    {
     "data": {
      "application/vnd.jupyter.widget-view+json": {
       "model_id": "f7d6ffde84104c75a53e7b5cbb6e0a14",
       "version_major": 2,
       "version_minor": 0
      },
      "text/plain": [
       "  0%|          | 0/30 [00:00<?, ?it/s]"
      ]
     },
     "metadata": {},
     "output_type": "display_data"
    },
    {
     "name": "stdout",
     "output_type": "stream",
     "text": [
      "Timed out!\n",
      "Timed out!\n"
     ]
    },
    {
     "data": {
      "application/vnd.jupyter.widget-view+json": {
       "model_id": "1aa027272c7345aca4412cef511c7942",
       "version_major": 2,
       "version_minor": 0
      },
      "text/plain": [
       "  0%|          | 0/30 [00:00<?, ?it/s]"
      ]
     },
     "metadata": {},
     "output_type": "display_data"
    },
    {
     "name": "stdout",
     "output_type": "stream",
     "text": [
      "Timed out!\n"
     ]
    },
    {
     "data": {
      "application/vnd.jupyter.widget-view+json": {
       "model_id": "879c6e69b8074bc0bb70006965ad757d",
       "version_major": 2,
       "version_minor": 0
      },
      "text/plain": [
       "  0%|          | 0/30 [00:00<?, ?it/s]"
      ]
     },
     "metadata": {},
     "output_type": "display_data"
    },
    {
     "data": {
      "application/vnd.jupyter.widget-view+json": {
       "model_id": "4b453585ab4f4405a0d0bbad079af03c",
       "version_major": 2,
       "version_minor": 0
      },
      "text/plain": [
       "  0%|          | 0/30 [00:00<?, ?it/s]"
      ]
     },
     "metadata": {},
     "output_type": "display_data"
    },
    {
     "name": "stdout",
     "output_type": "stream",
     "text": [
      "Timed out!\n",
      "Timed out!\n"
     ]
    },
    {
     "data": {
      "application/vnd.jupyter.widget-view+json": {
       "model_id": "e3e538fce48c4d86af2b0a8bdc29d5ce",
       "version_major": 2,
       "version_minor": 0
      },
      "text/plain": [
       "  0%|          | 0/30 [00:00<?, ?it/s]"
      ]
     },
     "metadata": {},
     "output_type": "display_data"
    },
    {
     "name": "stdout",
     "output_type": "stream",
     "text": [
      "Timed out!\n",
      "Timed out!\n"
     ]
    },
    {
     "data": {
      "application/vnd.jupyter.widget-view+json": {
       "model_id": "df0bbbb892434b7e9716634ebbff536a",
       "version_major": 2,
       "version_minor": 0
      },
      "text/plain": [
       "  0%|          | 0/30 [00:00<?, ?it/s]"
      ]
     },
     "metadata": {},
     "output_type": "display_data"
    },
    {
     "data": {
      "application/vnd.jupyter.widget-view+json": {
       "model_id": "19dd739ea02e4b00b5ec2ec2f559a5a6",
       "version_major": 2,
       "version_minor": 0
      },
      "text/plain": [
       "  0%|          | 0/30 [00:00<?, ?it/s]"
      ]
     },
     "metadata": {},
     "output_type": "display_data"
    },
    {
     "name": "stdout",
     "output_type": "stream",
     "text": [
      "Timed out!\n",
      "Timed out!\n",
      "Timed out!\n"
     ]
    }
   ],
   "source": [
    "N = 100\n",
    "path_legths_upto_4 = np.zeros((N,4))\n",
    "\n",
    "for i in tqdm(range(N)):\n",
    "    paths,path_properties = find_longest_independent_paths(G_old)\n",
    "    path_legths_upto_4[i] = path_properties.iloc[:4][\"path length\"]"
   ]
  },
  {
   "cell_type": "code",
   "execution_count": 219,
   "id": "ac507748-421e-418b-9293-8a177dbad7c4",
   "metadata": {},
   "outputs": [
    {
     "data": {
      "image/png": "[encoded data removed]",
      "text/plain": [
       "<Figure size 640x480 with 1 Axes>"
      ]
     },
     "metadata": {},
     "output_type": "display_data"
    }
   ],
   "source": [
    "plt.hist(np.sum(path_legths_upto_4 > 200,axis=1),np.arange(0.5,4.5,0.2));"
   ]
  },
  {
   "cell_type": "code",
   "execution_count": 220,
   "id": "8ecfb50b-149d-4773-9e79-60821c0f2350",
   "metadata": {},
   "outputs": [],
   "source": [
    "tmp = path_legths_upto_4.copy()\n",
    "tmp[tmp<200] = np.nan"
   ]
  },
  {
   "cell_type": "code",
   "execution_count": 231,
   "id": "97909e1f-43c5-4f32-85ea-206e4013ae7d",
   "metadata": {},
   "outputs": [
    {
     "data": {
      "image/png": "[encoded data removed]",
      "text/plain": [
       "<Figure size 640x480 with 1 Axes>"
      ]
     },
     "metadata": {},
     "output_type": "display_data"
    }
   ],
   "source": [
    "plt.hist(tmp,20,histtype=\"step\",linewidth=3);"
   ]
  },
  {
   "cell_type": "code",
   "execution_count": null,
   "id": "a4097e20-0b37-4abe-b227-112bcde1746d",
   "metadata": {},
   "outputs": [],
   "source": []
  },
  {
   "cell_type": "code",
   "execution_count": null,
   "id": "00bfd692-34b9-4187-9177-91afaf2e1192",
   "metadata": {},
   "outputs": [],
   "source": []
  },
  {
   "cell_type": "code",
   "execution_count": null,
   "id": "2b0863bf-1b5b-42bd-b68b-4d825c028924",
   "metadata": {},
   "outputs": [],
   "source": []
  },
  {
   "cell_type": "code",
   "execution_count": null,
   "id": "f4668e49-0bcd-4511-ae6a-d03c8c1bab3d",
   "metadata": {},
   "outputs": [],
   "source": []
  },
  {
   "cell_type": "code",
   "execution_count": null,
   "id": "9f40f5c9-2f1b-46b8-a9a8-9e2169eaa54d",
   "metadata": {},
   "outputs": [],
   "source": []
  },
  {
   "cell_type": "code",
   "execution_count": null,
   "id": "81dc2878-9dd4-4418-803c-f6cad9c32f15",
   "metadata": {},
   "outputs": [],
   "source": []
  },
  {
   "cell_type": "code",
   "execution_count": null,
   "id": "383c4bfe-877e-439d-bf82-af0064d277a8",
   "metadata": {},
   "outputs": [],
   "source": []
  },
  {
   "cell_type": "code",
   "execution_count": 181,
   "id": "d365422b-8bd1-4ea9-8195-65e1483406b2",
   "metadata": {},
   "outputs": [
    {
     "data": {
      "image/png": "[encoded data removed]",
      "text/plain": [
       "<Figure size 640x480 with 1 Axes>"
      ]
     },
     "metadata": {},
     "output_type": "display_data"
    }
   ],
   "source": [
    "path_properties.plot(kind=\"scatter\",x=\"total overlap\",y=\"path length\")\n",
    "plt.xscale(\"log\")\n",
    "plt.yscale(\"log\")"
   ]
  },
  {
   "cell_type": "code",
   "execution_count": 183,
   "id": "f793d080-19ec-4336-97ab-4aab78a8d35b",
   "metadata": {
    "scrolled": true
   },
   "outputs": [
    {
     "data": {
      "text/plain": [
       "['GAGTGTTTCTAAAATT',\n",
       " 'TAAAATTAAGTGCCCT',\n",
       " 'GCCCTGGGCGGCTTCG',\n",
       " 'GCTTCGCTGAGACAGAG',\n",
       " 'ACAGAGGTGGAAGTGC',\n",
       " 'AGTGCTTTTTTGTTA',\n",
       " 'TGTTAGCGTGGGAAACG',\n",
       " 'AAACGCTAAAAATAGTT',\n",
       " 'ATAGTTAATCATATTA',\n",
       " 'ATATTAAATACAAGTA',\n",
       " 'ACAAGTATATTATCCTC',\n",
       " 'ATCCTCATTTGCTTTTA',\n",
       " 'TTTTATAATTTTATA',\n",
       " 'TTTATAGTATACTTTAA',\n",
       " 'CTTTAAATAAATACCTT',\n",
       " 'TACCTTATGAACTAT',\n",
       " 'ACTATAACTATATCATA',\n",
       " 'TCATAAGTATCACTAAT',\n",
       " 'TCACTAATCAAGTGAT',\n",
       " 'GTGATGCAAAGGTTGA',\n",
       " 'GGTTGAAGAACGCTTG',\n",
       " 'GCTTGCTTTTAACGTAC',\n",
       " 'CGTACCACATGGTCGAT',\n",
       " 'TCGATAGCTGCAGGC',\n",
       " 'CTGCAGGCCGCAGTCCT',\n",
       " 'GTCCTCCCGGAGGCGGA',\n",
       " 'GCGGAAGTCGATCTC',\n",
       " 'ATCTCTTCCATCTTTT',\n",
       " 'CTTTTGAAAACATATT',\n",
       " 'ACATATTAGGTAGGGC',\n",
       " 'AGGGCCTCGGCGTGGCG',\n",
       " 'TGGCGCTGCGGGTGCCG',\n",
       " 'GGTGCCGCGCATCCGA',\n",
       " 'TCCGATGGGGGCTACG',\n",
       " 'CTACGACGATGCCAACA',\n",
       " 'CAACAGGCACACCTTC',\n",
       " 'CCTTCGCCGGCTGCGA',\n",
       " 'TGCGAGGCCGCCATGAA',\n",
       " 'ATGAAAAGTATTACT',\n",
       " 'TTACTTCTAATAAGTA',\n",
       " 'ATAAGTATAGAAAAT',\n",
       " 'AAAATCTTGCCGTTCT',\n",
       " 'TGCCGTTCTATGCCTAT',\n",
       " 'CCTATGAAGCGGCCA',\n",
       " 'CGGCCAGGCGGTCCG',\n",
       " 'GTCCGGGTCCACCGT',\n",
       " 'ACCGTGCAGCCCTGCCC',\n",
       " 'CTGCCCGCCCGAGGCCG',\n",
       " 'AGGCCGTCGACCGAAT',\n",
       " 'CGAATTTCCATGAAGT',\n",
       " 'TCCATGAAGTTGTTC',\n",
       " 'GTTGTTCTTTTTGCAAG',\n",
       " 'GCAAGGGATCGACCA',\n",
       " 'GACCATTTCGCGCCTGA',\n",
       " 'GCCTGAGCGCCAAGGA',\n",
       " 'AAGGACCGACCGGCT',\n",
       " 'CGGCTGGGCACGTCC',\n",
       " 'CGTCCAACTGGGCTTG',\n",
       " 'GCTTGCTCCAGCGGG',\n",
       " 'GCGGGCGCGGCGACA',\n",
       " 'GCGACAAGCTGTGGGTG',\n",
       " 'GGGTGATCCGTCGCC',\n",
       " 'TCGCCACTAGCCGGC',\n",
       " 'GCCGGCCATCGCCTCG',\n",
       " 'CCTCGCGCCTGCCCG',\n",
       " 'GCCCGGTATCAGTTC',\n",
       " 'AGTTCACATAACGCTCG',\n",
       " 'GCTCGACTTCGCCTTT',\n",
       " 'CCTTTATCTCCTTTT',\n",
       " 'CTTTTGTATGCCTAC',\n",
       " 'GCCTACACGCTCACGG',\n",
       " 'CACGGTGTCGGCCCG',\n",
       " 'GCCCGACCGGCTGTG',\n",
       " 'GCTGTGGACCGGTTG',\n",
       " 'GGTTGTCATCAGAAG',\n",
       " 'CAGAAGAGAGAATGAGC',\n",
       " 'ATGAGCCAAGTACTGG',\n",
       " 'ACTGGTTTTTCAGTGT',\n",
       " 'CAGTGTTAAAGCCTTC',\n",
       " 'CCTTCCGAGTCGCGCAC',\n",
       " 'CGCACATCCGTTCAC',\n",
       " 'GTTCACCAGCCTCAA',\n",
       " 'CTCAAAAATCGGAGA',\n",
       " 'CGGAGAATTCCTCCG',\n",
       " 'CTCCGTTGCTGTCTT',\n",
       " 'GTCTTTTGTTAAGTCAA',\n",
       " 'GTCAAACTCGGCGCAG',\n",
       " 'CGCAGGTGGTCTTGG',\n",
       " 'CTTGGTGCGCAGGCG',\n",
       " 'AGGCGATCCTGCACA',\n",
       " 'TGCACAGTAAGCTGGA',\n",
       " 'CTGGAGTTCCTGAAGC',\n",
       " 'GAAGCCGATCCGCTAC',\n",
       " 'GCTACTGTTAAAATATA',\n",
       " 'ATATATACTGAAGCCT',\n",
       " 'AGCCTCCTGTATTATC',\n",
       " 'ATTATCCACGTTTGC',\n",
       " 'CGTTTGCTAAACACCA',\n",
       " 'CACCACGGTGAACCT',\n",
       " 'GAACCTGATCGGTGAA',\n",
       " 'GTGAAAGCGCTGCAG',\n",
       " 'TGCAGATAGGGTATAT',\n",
       " 'TATATCACCTTTAAA',\n",
       " 'TTAAAACCTTCTTCA',\n",
       " 'CTTCTTCAAGGGACGCT',\n",
       " 'ACGCTCAGATTGCGGCC',\n",
       " 'CGGCCCAGTTGCGCGGC',\n",
       " 'GCGGCCGAGCAGGCGGG',\n",
       " 'GCGGGCGGCTGCGCGC',\n",
       " 'CGCGCCGGTCAGGGCA',\n",
       " 'GGGCATTGAGGATACAT',\n",
       " 'TACATGTGGACTTCGA',\n",
       " 'TTCGAGCGCGGCAAG',\n",
       " 'GGCAAGCCAATCCTGT',\n",
       " 'TCCTGTAATTTGGGTT',\n",
       " 'GGGTTGGCCGGAGGGC',\n",
       " 'GAGGGCATCGACACCAC',\n",
       " 'ACCACCAGCAGCTCGGC',\n",
       " 'TCGGCGCCACCCCGAT',\n",
       " 'CCGATTCATTTAGAAG',\n",
       " 'TAGAAGGAGATAAGTA',\n",
       " 'AAGTACTATAAATAC',\n",
       " 'AAATACATCAGGCCT',\n",
       " 'GGCCTGGAATAATGACC',\n",
       " 'ATGACCGACTGGTAGC',\n",
       " 'GTAGCGGTTCCTGCTGC',\n",
       " 'GCTGCTGGAGAAGCATA',\n",
       " 'GCATAATATACCCAA',\n",
       " 'ACCCAAGGCGACGCT',\n",
       " 'GACGCTGACGTATTCGC',\n",
       " 'TTCGCAAGAAATGTTTG',\n",
       " 'TGTTTGCACCGATGCT',\n",
       " 'ATGCTGGCGCGCCTGT',\n",
       " 'GCCTGTCCAATTGCTGT',\n",
       " 'TGCTGTATCCGATTT',\n",
       " 'CCGATTTGCATTATA',\n",
       " 'ATTATATGGATAAGAAA',\n",
       " 'AGAAATTATTTTATA',\n",
       " 'TTTATAAATAAATAG',\n",
       " 'AATAGGTGAAGTTGGC',\n",
       " 'TTGGCGGCATCGGCTTC',\n",
       " 'GCTTCACTGGCCACCT',\n",
       " 'CACCTTGCCGGCGCCG',\n",
       " 'CGCCGCATGCCCTGGC',\n",
       " 'CTGGCTCTGCAGGTATT',\n",
       " 'AGGTATTTTAGCAGGAC',\n",
       " 'AGGACTTATTTTCTC',\n",
       " 'TTCTCATTTTCTATAT',\n",
       " 'CTATATTATAAGTCAG',\n",
       " 'GTCAGGCATCGGCAG',\n",
       " 'CGGCAGCGCGACCACGA',\n",
       " 'CACGATGCCTGCCAGCC',\n",
       " 'CAGCCTCGGCCATTGG',\n",
       " 'CATTGGATGCAAAAA',\n",
       " 'AAAAATAGTATACAT',\n",
       " 'ATACATCTCCATCCT',\n",
       " 'CATCCTAGATGCTTTAA',\n",
       " 'CTTTAACCTCGCTCC',\n",
       " 'GCTCCACGTCGGTATC',\n",
       " 'GGTATCAATACAAATAC',\n",
       " 'AATACATATCCCCATCA',\n",
       " 'CATCAGGATGTCCTTG',\n",
       " 'CCTTGCCAATATGATTC',\n",
       " 'ATGATTCCGTCTTGG',\n",
       " 'CTTGGCATTGGTGTAG',\n",
       " 'TGTAGCCGCAGCGAACG',\n",
       " 'GAACGCCGCCGCGTCC',\n",
       " 'CGTCCAAAACTACAATT',\n",
       " 'ACAATTATAGCATAATT',\n",
       " 'CATAATTATTATATA',\n",
       " 'ATATAAAATATTTTG',\n",
       " 'TTTTGAAAAGCGCCG',\n",
       " 'CGCCGTCGGCGTCGTC',\n",
       " 'TCGTCCACCACGATC',\n",
       " 'CACGATCACGCCCCG',\n",
       " 'CCCCGCTACCACGCCGT',\n",
       " 'GCCGTCGGCTCAGTG',\n",
       " 'CAGTGGAGTACACCTG',\n",
       " 'ACCTGCAGGCCCGCCT',\n",
       " 'CGCCTTGGCTCGCAC',\n",
       " 'TCGCACCTGCTCCAGCA',\n",
       " 'CAGCATGGCCTGGAAC',\n",
       " 'CTGGAACACGAAGCC',\n",
       " 'AAGCCTATAATTACTC',\n",
       " 'TACTCCGTATTGGGGC',\n",
       " 'TGGGGCGGCCCATGAT',\n",
       " 'CATGATAAAGCAAAG',\n",
       " 'GCAAAGCCAGTCCTCT',\n",
       " 'GTCCTCTGACCATCA',\n",
       " 'CCATCACGTCGCGCC',\n",
       " 'GCGCCTCGCCCTGGCGG',\n",
       " 'GGCGGCCCGGCATCAGG',\n",
       " 'TCAGGCGAGCTGATAA',\n",
       " 'GATAAATCTGTTCTTC',\n",
       " 'TCTTCAATTACACCTAT',\n",
       " 'ACCTATACCTTAAGC',\n",
       " 'TAAGCTCATTCTCTACC',\n",
       " 'CTACCTGGGCTAATAA',\n",
       " 'AATAACTGACCCGCGG',\n",
       " 'CGCGGTCACCGTCTAC',\n",
       " 'TCTACATCAATGATTTC',\n",
       " 'ATTTCCCCCTGCAAAA',\n",
       " 'CAAAAGAGTGAGTAT',\n",
       " 'AGTATATTTTTTATGT',\n",
       " 'TATGTGTATAAGAGTT',\n",
       " 'GAGTTAATGGTCACA',\n",
       " 'GGTCACAAAAAGCAC',\n",
       " 'AGCACTTGATTCAAA',\n",
       " 'TCAAAACTAAACAAGAC',\n",
       " 'AAGACCGCAGCTATA',\n",
       " 'CTATACGCGCAGGTC',\n",
       " 'CAGGTCGGAGGCCTG',\n",
       " 'GGCCTGCTACACACAT',\n",
       " 'CACATAAAAATTTATT',\n",
       " 'TTTATTTGCTCCTGTAA',\n",
       " 'CTGTAAAATGAATTT',\n",
       " 'AATTTTAGTTGACAGC',\n",
       " 'ACAGCTGTTGCGCGGGC',\n",
       " 'GCGGGCATCCGGATGC',\n",
       " 'CGGATGCCGTTTGTAAA',\n",
       " 'GTAAATAAGCAAGGC',\n",
       " 'AAGGCATCGACCGTCAT',\n",
       " 'CGTCATCATCACAAGT',\n",
       " 'TCATCATCACAAGTA',\n",
       " 'CAAGTACTGTAAAATTT',\n",
       " 'AATTTTGTATCTAGTT',\n",
       " 'TAGTTTATCCGAATAT',\n",
       " 'GAATATACTATTCAT',\n",
       " 'TTCATGCGTTTGAATC',\n",
       " 'TTGAATCATGGTACAC',\n",
       " 'TACACCTCGGTGCTC',\n",
       " 'TGCTCTTAAAAATAATA',\n",
       " 'AAATAATATGATAAGCT',\n",
       " 'AAGCTCCATTTTTGAGC',\n",
       " 'TTGAGCGAATCGTCCCA',\n",
       " 'TCCCAAATGGCGACGAT',\n",
       " 'ACGATAGTTATTTGTCT',\n",
       " 'TGTCTGCTATTATACA',\n",
       " 'ATTATACAAGTTATGA',\n",
       " 'TATGAGATGCGGCTCG',\n",
       " 'GGCTCGGGTTGAGCGTG',\n",
       " 'GCGTGCTGCCGCACA',\n",
       " 'GCACAAGTGCCGGGTT',\n",
       " 'CGGGTTTTATCAGAC',\n",
       " 'TCAGACCGAACATGTA',\n",
       " 'ATGTACTGTGGTGTGC',\n",
       " 'GTGTGCTCGACTTCC',\n",
       " 'GACTTCCCAGTGCTA',\n",
       " 'GTGCTAAGGAGTATGGT',\n",
       " 'ATGGTGTGTTCTCCTG',\n",
       " 'TCCTGGAAGAACCCG',\n",
       " 'AACCCGGCCGCAAAGCC',\n",
       " 'AAGCCGTTAAAAAAGA',\n",
       " 'AAAGATTGTTTCCCCGG',\n",
       " 'CCCCGGTCCGGCCCT',\n",
       " 'GGCCCTGACGAGATCC',\n",
       " 'GATCCTGCACGAACAC',\n",
       " 'AACACCGTATTCTGC',\n",
       " 'TCTGCGGTCATGGCT',\n",
       " 'CATGGCTGGACGAGGCA',\n",
       " 'AGGCAGAACAATTGA',\n",
       " 'AATTGATAGTTTCAA',\n",
       " 'TTCAAGCTTGAAATCA',\n",
       " 'AAATCAGATTCTTGTTT',\n",
       " 'TGTTTCAGCCGTCATC',\n",
       " 'TCATCGGCACGATCAG',\n",
       " 'GATCAGCCGGGTGTCGA',\n",
       " 'GTCGAATAGGCGCCAT',\n",
       " 'GCCATGCGGTGCGCC',\n",
       " 'TGCGCCCGGCCAGCCC',\n",
       " 'CAGCCCTCGTTCCCTA',\n",
       " 'TCCCTATCTCTTTTTTG',\n",
       " 'TTTTTTGGCTTGATTGC',\n",
       " 'GATTGCGCACGTCGC',\n",
       " 'GTCGCGCCAGATCTCG',\n",
       " 'TCTCGCCCTTCAGGA',\n",
       " 'CAGGATCGGCAGCAG',\n",
       " 'CAGCAGGCATGACCAA',\n",
       " 'ACCAAGTAAAGCAGAA',\n",
       " 'CAGAAAAGATAAATGTA',\n",
       " 'ATGTAGGAGATTTCCTT',\n",
       " 'TTCCTTAAATCTGAAA',\n",
       " 'TGAAAGGCTTTTTGC',\n",
       " 'TTTTGCGAAAGCTTT',\n",
       " 'AGCTTTCGCGCTCCAG',\n",
       " 'TCCAGTCGAGCGCGA',\n",
       " 'TCGAGCGCGACAAGCG',\n",
       " 'AAGCGTTTGACTCGAT',\n",
       " 'TCGATTTTCCCTGTTA',\n",
       " 'CTGTTATTTGGATTTT',\n",
       " 'GATTTTCTATCCTACTT',\n",
       " 'TACTTCTCAATTCTTTA',\n",
       " 'CTTTATATGTCCACAC',\n",
       " 'CACACCCATAGTACA',\n",
       " 'GTACAAAAGGTGCCAT',\n",
       " 'GCCATCCGCGCCACGCG',\n",
       " 'ACGCGGTGCGATTTCA',\n",
       " 'TTTCAAATAGCACCGC',\n",
       " 'CACCGCCCGCGATAACC',\n",
       " 'GATAACCAAGTTCAA',\n",
       " 'TTCAAATCGCTAATCTT',\n",
       " 'ATCTTTATCTATATTTA',\n",
       " 'ATTTATGGACAGTCT',\n",
       " 'AGTCTTTATTTCTGTGC',\n",
       " 'TGTGCCGCACAGATCC',\n",
       " 'AGATCCTCGCTTTAC',\n",
       " 'TTTACATAAGTATACA',\n",
       " 'ATACAGATTTATATAAA',\n",
       " 'TATAAATTATTTGCA',\n",
       " 'ATTTGCACTGCTCTA',\n",
       " 'GCTCTACGGCGATGT',\n",
       " 'GATGTCGATCTACGA',\n",
       " 'TACGATGCATTAGAACC',\n",
       " 'GAACCAATGTTATTAC',\n",
       " 'ATTACCTGTATATATG',\n",
       " 'ATATGGAAGAATTAA',\n",
       " 'AATTAAGGGCATTGAGT',\n",
       " 'TTGAGTCGTAATATGAG',\n",
       " 'ATGAGGAAGTGGCCGC',\n",
       " 'GGCCGCGCCGCGCTGG',\n",
       " 'GCTGGTCTGGCGCCG',\n",
       " 'CGCCGAAGGTGTCGAT',\n",
       " 'GTCGATGCCCACCACC',\n",
       " 'CCACCGGCTCGACCA',\n",
       " 'GACCAGGCCGATCAG',\n",
       " 'ATCAGGAGATTCAAAA',\n",
       " 'TTCAAAACATGCCGGG',\n",
       " 'GCCGGGCTGGCGGGGC',\n",
       " 'GCGGGGCGACAGGCGGT',\n",
       " 'GCGGTCAGGTTGAAGCA',\n",
       " 'GAAGCAGACTGTGAACA',\n",
       " 'GAACATTGGTTGTATA',\n",
       " 'GTATAGCCCTTGCAATG',\n",
       " 'CAATGATTATGTTATA',\n",
       " 'GTTATAGAACACGAA',\n",
       " 'ACGAAGAGGTCCCGGC',\n",
       " 'CCGGCAGGCGGCATC',\n",
       " 'GCATCGCCCTCCATTCC',\n",
       " 'ATTCCACATCCTAAAAC',\n",
       " 'AAAACCAGCAAATTAAA',\n",
       " 'TTAAATATAAGAACA',\n",
       " 'GAACAATATTATATGCT',\n",
       " 'TATGCTTATTATGTGAA',\n",
       " 'GTGAATGACGGTCTGA',\n",
       " 'GTCTGAAATAACAAGT',\n",
       " 'CAAGTATCAATTTAGAA',\n",
       " 'TAGAATATGTAAATAA',\n",
       " 'AAATAAGTTCAAATGC',\n",
       " 'AAATGCAGGACTCGG',\n",
       " 'CTCGGATCCACCTGG',\n",
       " 'CCTGGCCAACGCGGC',\n",
       " 'GCGGCCCTGGTACAG',\n",
       " 'TACAGCCTTAACCAT',\n",
       " 'ACCATCTGTAAATCTG',\n",
       " 'AAATCTGGCAAACGAG',\n",
       " 'ACGAGTAGGGCGGCTCT',\n",
       " 'GCTCTTTAGAACCTG',\n",
       " 'AACCTGCCGCGCACGGC',\n",
       " 'CACGGCGCTGATTGAC',\n",
       " 'TTGACCAGCACGAATGT',\n",
       " 'CGAATGTGTCGATGCA',\n",
       " 'ATGCACCTGAGCTTTCA',\n",
       " 'CTTTCACTTTTACTGGT',\n",
       " 'CTGGTGGAGACCCGGTC',\n",
       " 'CGGTCGGTCAGGCGATT',\n",
       " 'CGATTGGTGGTTGGCGC',\n",
       " 'GGCGCAATGAAGCCCGG',\n",
       " 'GCCCGGGTCTTCAGGG',\n",
       " 'CAGGGCAGGCCGATCCG',\n",
       " 'ATCCGCATGTCGCGC',\n",
       " 'CGCGCACATCCTCCGCG',\n",
       " 'CCGCGGCGGCCCGCGAT',\n",
       " 'GCGATGTGCTGTAAC',\n",
       " 'TGTAACGCAGGTTTG',\n",
       " 'GGTTTGCCGTTAAGTC',\n",
       " 'AAGTCAGACTGTTTAT',\n",
       " 'TTTATTTTTCATGGTTT',\n",
       " 'GGTTTCCTTGGTATC',\n",
       " 'GGTATCCCTAAAAATT',\n",
       " 'AAAATTGAAGGTATA',\n",
       " 'GTATAACGGAAATATCT',\n",
       " 'TATCTGCAATAATGTCG',\n",
       " 'TGTCGCTGGTCGACG',\n",
       " 'CGACGAACCGCTGCTG',\n",
       " 'TGCTGCTGCAGACCG',\n",
       " 'GACCGGTGCCGTATC',\n",
       " 'GTATCATAAAATCCA',\n",
       " 'ATCCACGTTGTCCAC',\n",
       " 'TCCACGCCGGCCATGCT',\n",
       " 'CATGCTATTCCTATATT',\n",
       " 'TATATTGCAGTTGAT',\n",
       " 'TTGATGTCGTTGATA',\n",
       " 'TGATACCTAAAATTAA',\n",
       " 'AATTAATAGAAAGTAGA',\n",
       " 'GTAGATCTTGCCGTC',\n",
       " 'CCGTCGAAAACACTGAT',\n",
       " 'CTGATCGCAAGCTGA',\n",
       " 'GCTGATAGGCTGCCG',\n",
       " 'CTGCCGGGCTTGCGTC',\n",
       " 'TGCGTCAGGTCCAGCG',\n",
       " 'CCAGCGCCGTCAGGTT',\n",
       " 'CAGGTTGTTTTTTGAA',\n",
       " 'TTGAAGAGGAATAGT',\n",
       " 'ATAGTGCAACGGCCAA',\n",
       " 'GCCAAACTAAAACAA',\n",
       " 'AACAAGAGAACAGGTTG',\n",
       " 'GGTTGTGCTCTCTCA',\n",
       " 'TCTCAAGAATACATC',\n",
       " 'ACATCATCGCCCCCGA',\n",
       " 'CCCGATGTATCCGGA',\n",
       " 'CCGGAGAACTCATGCGG',\n",
       " 'TGCGGTAATCCACGCCT',\n",
       " 'ACGCCTGGATGGAGGC',\n",
       " 'GAGGCGCCCAGCGCG',\n",
       " 'AGCGCGTTGCGCACGG',\n",
       " 'CACGGTCGATCAGGG',\n",
       " 'CAGGGGGTGAATTTGC',\n",
       " 'ATTTGCGATAGAGATT',\n",
       " 'AGATTCCAATGGTGTTG',\n",
       " 'TGTTGTCGCCGTCGGC',\n",
       " 'TCGGCGCGTTCGCCGAG',\n",
       " 'CCGAGCGCGCCCAGC',\n",
       " 'CCCAGCACCGCTTCAG',\n",
       " 'TTCAGAACAGGTAATAC',\n",
       " 'GGTAATACAAAAAAAG',\n",
       " 'AAAAAGGATGTTCCAT',\n",
       " 'TCCATGGTGTGCAGCCC',\n",
       " 'CAGCCCGAACGCCTCCC',\n",
       " 'CTCCCGGCGTCACGA',\n",
       " 'TCACGAAGCACGGACAT',\n",
       " 'GACATTTATAAAAGGT',\n",
       " 'AAGGTAGGACTTATT',\n",
       " 'TTATTTGGAATGATTT',\n",
       " 'TGATTTAGGAGCGATC',\n",
       " 'AGCGATCAACTTTATGA',\n",
       " 'TATGAATATAAAGAAA',\n",
       " 'AGAAAGAAAAACTCTG',\n",
       " 'CTCTGGATCTAACACAT',\n",
       " 'AACACATACTCTGAGAG',\n",
       " 'GAGAGTAAGCATGTG',\n",
       " 'CATGTGTGACAATGA',\n",
       " 'AATGACTTGGAAGAATT',\n",
       " 'GAATTAAATAAGCCAA',\n",
       " 'AGCCAAGATAGGAAT',\n",
       " 'TAGGAATTGTAGTTG',\n",
       " 'AGTTGACAATATAAAAG',\n",
       " 'ATAAAAGAATAGATG',\n",
       " 'TAGATGGATATATATTG',\n",
       " 'ATATTGTACAGCGTTT',\n",
       " 'CGTTTCTTATCCATT',\n",
       " 'CCATTGCAAGGTGAC',\n",
       " 'GGTGACATCCTATCTT',\n",
       " 'TATCTTTCATTTTACA',\n",
       " 'TTACAATTAGGAGAA',\n",
       " 'GAGAAGTTCTGGTAGT',\n",
       " 'GTAGTGTACTTCCCAC',\n",
       " 'TCCCACGCGGCCAGGC',\n",
       " 'CCAGGCTTATGTTGAC',\n",
       " 'TTGACCGGTATCCAGA',\n",
       " 'CCAGAAGCCGCCATA',\n",
       " 'CCATAGAACCCACTG',\n",
       " 'CACTGTAGAATTCATA',\n",
       " 'TCATAATCCATTTTAC',\n",
       " 'TTTTACGTAAAATGTCG',\n",
       " 'TGTCGTTTGAATCATAA',\n",
       " 'CATAACGCCCTGTCA',\n",
       " 'CTGTCATTTAATTTTTT',\n",
       " 'ATTTTTTCTTGAACAG',\n",
       " 'AACAGGTGCCCGCCT',\n",
       " 'CGCCTCGCGCAGGAA',\n",
       " 'AGGAAGGTGCTGATTTG',\n",
       " 'ATTTGGCCCAGCAAAT',\n",
       " 'CAAATAGCTGCTTCCCT',\n",
       " 'TTCCCTACTTTTCTCA',\n",
       " 'TCTCAGCTCGTGCAG',\n",
       " 'TGCAGCTCCAGCGTCTC',\n",
       " 'GTCTCTCCTATTGTTT',\n",
       " 'TTGTTTTCCTTTAGGA',\n",
       " 'TTTCCTTTAGGATAATT',\n",
       " 'TAATTTTTGCAGAAGTG',\n",
       " 'AAGTGAAGCACCCATT',\n",
       " 'CCATTATATCCTCTAA',\n",
       " 'TCTAAGCTGTCAAAA',\n",
       " 'CAAAACGTGTTCCAG',\n",
       " 'TTCCAGCCAGTGCGA',\n",
       " 'TGCGATGGGATCAGCT',\n",
       " 'CAGCTGCTGAAGTAA',\n",
       " 'AGTAATGTGATTTAGC',\n",
       " 'TTAGCCGGTCATGGTCT',\n",
       " 'GGTCTCGTCCGGCTTGG',\n",
       " 'CTTGGACGCGGTAAAA',\n",
       " 'TAAAAATATGACGACA',\n",
       " 'ACGACATCACCGACC',\n",
       " 'CGACCGGCTTGGCCT',\n",
       " 'GGCCTGAGCCATCGGG',\n",
       " 'TCGGGCGGATCGTCT',\n",
       " 'TCGTCTTCAGGCGCG',\n",
       " 'GGCGCGATGATGTGCG',\n",
       " 'TGTGCGGTATTGATAGC',\n",
       " 'ATAGCTTTCAAATTTAT',\n",
       " 'TTTATTATTAGCAAAT',\n",
       " 'GCAAATGCTCCTACACT',\n",
       " 'TACACTTTAGACACTT',\n",
       " 'CACTTTCGATACGCTGA',\n",
       " 'ACGCTGATAGCGTTT',\n",
       " 'CGTTTGGCCAAACCAT',\n",
       " 'AACCATATTTATATG',\n",
       " 'TATATGGAATAATATGT',\n",
       " 'AATATGTCTGTAGAGG',\n",
       " 'AGAGGATGGCGCGTGC',\n",
       " 'CGTGCGCACCGGCGGG',\n",
       " 'GCGGGCACAGAGCAT',\n",
       " 'GAGCATCAACAAGACGG',\n",
       " 'AGACGGGGTGGACTT',\n",
       " 'GACTTGGTTTGTTCAG',\n",
       " 'TTCAGATGCTTATGGAA',\n",
       " 'ATGGAAATTATAAGTG',\n",
       " 'AAGTGCTTTAGATGATG',\n",
       " 'TGATGTCAGCAGCATCA',\n",
       " 'CAGCATCACCGTGCG',\n",
       " 'GTGCGTTGCGCGCCA',\n",
       " 'CGCCATCGGGCGCGG',\n",
       " 'CGCGGTGTTTAAACAA',\n",
       " 'AAACAATACTCAAACTT',\n",
       " 'AAACTTTTTAAAAAGAT',\n",
       " 'AAGATATAAAAATTCCA',\n",
       " 'TTCCACTTGAACTCCT',\n",
       " 'ACTCCTGATGCAGGCGG',\n",
       " 'GGCGGCACCCACTGCAC',\n",
       " 'TGCACCACGGCGTGCC',\n",
       " 'GTGCCCCGCTGCGCGCA',\n",
       " 'GCGCATTCGCGCGTG',\n",
       " 'GCGTGGACCCCCGGCTC',\n",
       " 'GGCTCCACCACCGCCA',\n",
       " 'CCGCCAGGATCACGATG',\n",
       " 'CGATGGAGTCGGCGC',\n",
       " 'TCGGCGCGGGCCCAT',\n",
       " 'CCCATCATCTTCAGATC',\n",
       " 'CAGATCTGCGTTGAG',\n",
       " 'TTGAGCACCGCGGTG',\n",
       " 'CGGTGGCGCGCGTCGTT',\n",
       " 'TCGTTGCGCACGCCTT',\n",
       " 'GCCTTCCGCGAACACG',\n",
       " 'GAACACGGCGATGAACG',\n",
       " 'GAACGACCTGCCGCCG',\n",
       " 'CGCCGCCGCCGACCTGC',\n",
       " 'CCTGCTGTACGGATATA',\n",
       " 'ATATACAAGAGAGTAA',\n",
       " 'AGTAATGGTTCCCTATA',\n",
       " 'CTATACTAAAAAGTA',\n",
       " 'AAAGTAATTTGTATT',\n",
       " 'TGTATTAAGGGGAATA',\n",
       " 'GAATAAGACCATGGCAA',\n",
       " 'GGCAATGGCGGAATCGT',\n",
       " 'ATCGTGAATTTCATA',\n",
       " 'TCATATGTGTTAGCTTT',\n",
       " 'TAGCTTTATTCAAACTA',\n",
       " 'AACTAACTTATAATA',\n",
       " 'ATAATAAGAATAGTTAA',\n",
       " 'GTTAAAAAATATGAT',\n",
       " 'TATGATCCTTGCAATAA',\n",
       " 'AATAAATGTATTCTT',\n",
       " 'TTCTTCAAGCCCTCGT',\n",
       " 'CTCGTCCGCGCGGACGG',\n",
       " 'GGACGGCCGCTTCTCTT',\n",
       " 'CTTCTCTTATAAATAAA',\n",
       " 'ATAAAGGCACCTGAAT',\n",
       " 'TGAATATTCTTCAAGC',\n",
       " 'TCAAGCGCCCGGACGAG',\n",
       " 'GACGAGGCGCAGCAT',\n",
       " 'CAGCATTAACCTAGA',\n",
       " 'CTAGATATCCACATC',\n",
       " 'ACATCACAAAAAAGTA',\n",
       " 'AAAGTATATAAGTTCAG',\n",
       " 'TTCAGTTGTAATGATG',\n",
       " 'TGATGCCGCCATCGAT',\n",
       " 'TCGATTCGGTGGGCT',\n",
       " 'GGGCTGTATGAATTCA',\n",
       " 'ATTCAAATTCACATTTA',\n",
       " 'CATTTAACCTTTGCCAT',\n",
       " 'TTGCCATTCATATATCA',\n",
       " 'TATCAGTTTCAGAAT',\n",
       " 'AGAATATATATATATT',\n",
       " 'ATATTAGCTTATGCC',\n",
       " 'ATGCCCTTCCAGATGCA',\n",
       " 'AGATGCAGGGGAATGC',\n",
       " 'AATGCAGATGATTTTA',\n",
       " 'TTTTATAACCACTAAAT',\n",
       " 'TAAATGCTATAAATTT',\n",
       " 'AATTTTTATAGGCTGGA',\n",
       " 'CTGGAAATTCTGATT',\n",
       " 'TGATTGTGGGAAGAAT',\n",
       " 'AAGAATGGATGCTGGT',\n",
       " 'CTGGTTGCCCATGTTG',\n",
       " 'ATGTTGAATATGACAGC',\n",
       " 'ACAGCTTGGCGATCG',\n",
       " 'GATCGTGGTGTGCCAT',\n",
       " 'GCCATTATCCTGTGCAC',\n",
       " 'TGCACGGTGACACCC',\n",
       " 'CACCCTGTCTCACAT',\n",
       " 'CACATCCCGGTCGGCTA',\n",
       " 'GGCTAATGTCCTTTTGT',\n",
       " 'TTTGTTTTCTGATTTC',\n",
       " 'ATTTCCTGTAGAATAAT',\n",
       " 'ATAATCATTAATTGCCT',\n",
       " 'ATTGCCTGTAAATCTC',\n",
       " 'AATCTCTCCAATACA',\n",
       " 'AATACAATTCTGTAATT',\n",
       " 'GTAATTAAATTTATTTA',\n",
       " 'ATTTAAAATAAAGTA',\n",
       " 'TAAAGTATTTCTCAT',\n",
       " 'TCTCATAGGAAAAACAA',\n",
       " 'AACAATGCCCTCTGC',\n",
       " 'TCTGCTTCCTGGGGTA',\n",
       " 'GGGTACAGTTTACCTT',\n",
       " 'ACCTTAATGAAGATT',\n",
       " 'GAAGATTCTTTTCCACC',\n",
       " 'TTTCCACCCAAAGCA',\n",
       " 'AAAGCAAGCCTTCTAC',\n",
       " 'TTCTACTAGTTTTGA',\n",
       " 'TTTGAACAGCTCTTACT',\n",
       " 'TTACTTATGCAGTTT',\n",
       " 'CAGTTTTTAGGTATG',\n",
       " 'AGGTATGGATTGATT',\n",
       " 'TGATTCCGTATATCA',\n",
       " 'TATCAAACTCTTGTCCT',\n",
       " 'TGTCCTGGCTCTGGC',\n",
       " 'CTGGCCTTCGTGACG',\n",
       " 'TGACGTCATCGCCAC',\n",
       " 'GCCACGATAGCCTGGAT',\n",
       " 'TGGATGGGCTACCGG',\n",
       " 'ACCGGCACGGTTAAG',\n",
       " 'GTTAAGATAAATCCT',\n",
       " 'ATCCTTTTTAGAAGA',\n",
       " 'GAAGATGACCGGGAAAA',\n",
       " 'GAAAATAATTAATTA',\n",
       " 'AATTACTTTATATTA',\n",
       " 'TTATATTAAAAATTATC',\n",
       " 'TTATCTCGCCTGTGAC',\n",
       " 'GTGACGATAAAAAAGTG',\n",
       " 'AAAAGTGCAGGAAGA',\n",
       " 'GAAGATGAGGATTATGT',\n",
       " 'TATGTTAAAATAATT',\n",
       " 'ATAATTTCAGGCAAA',\n",
       " 'AGGCAAATCCAGGTC',\n",
       " 'AGGTCAGCAGCGCGG',\n",
       " 'GCGCGGTATGACGCAGG',\n",
       " 'GCAGGTATTTTTAAGAT',\n",
       " 'AAGATTCGGGGTGCCT',\n",
       " 'GGTGCCTTTGCTCGAAA',\n",
       " 'TCGAAACCGCCGCGGA',\n",
       " 'GCCGCGGAGCAGCAC',\n",
       " 'AGCACATTTAAAGTA',\n",
       " 'TTAAAGTAACGCATAC',\n",
       " 'CATACTTAAATGATCAT',\n",
       " 'ATCATACCGCCAAACAC',\n",
       " 'CAAACACAAGCAGTG',\n",
       " 'CAGTGGCGGCATTGGTG',\n",
       " 'TGGTGCCGGTCTTGG',\n",
       " 'CTTGGGCTTCCTCACC',\n",
       " 'CTCACCGCGGCCAGCGA',\n",
       " 'AGCGAAGCGATCGCTC',\n",
       " 'CGCTCTTTTTCAATCAA',\n",
       " 'ATCAAAAGGCCACTTAG',\n",
       " 'CTTAGCATCATTCAC',\n",
       " 'TTCACAGCATCTCTAA',\n",
       " 'TCTAAATCTTTTTCT',\n",
       " 'TTTCTACGAGAACAGGG',\n",
       " 'ACAGGGCCAATACCA',\n",
       " 'TACCAGGCATTAAGGA',\n",
       " 'TAAGGATTTGAATTCCG',\n",
       " 'ATTCCGTCTAACACA',\n",
       " 'TAACACACTACTCCT',\n",
       " 'CTCCTGTGAAGATGGCT',\n",
       " 'TGGCTGTCGATCGTGC',\n",
       " 'CGTGCTGCATCGCACG',\n",
       " 'GCACGCTGCCGGGCGTG',\n",
       " 'GCGTGAATGGATTGCCC',\n",
       " 'TGCCCGAGCTGGTGG',\n",
       " 'TGGTGGTGCCGAGCAG',\n",
       " 'CGAGCAGCTCGCTGT',\n",
       " 'GCTGTTCAACCTGGAG',\n",
       " 'TGGAGGTCGAGGTGCT',\n",
       " 'GTGCTGGGCGGCGATC',\n",
       " 'GGCGATCCGGGCCGG',\n",
       " 'GGCCGGACGAGAACCT',\n",
       " 'AACCTCATCCTCATTTG',\n",
       " 'ATTTGAATAACCACTA',\n",
       " 'CACTACCTCTATCGCT',\n",
       " 'TCGCTCTCGGTACGGAA',\n",
       " 'CGGAAGTGCGCGCGTT',\n",
       " 'GCGTTGCCGATCTGGGC',\n",
       " 'TGGGCATGGTATTTCAA',\n",
       " 'TTCAAATAGTCCTTT',\n",
       " 'CCTTTAAAAGATCTAAC',\n",
       " 'CTAACTTTTGTGGTA',\n",
       " 'TGGTAAGGCAAATGTGA',\n",
       " 'TGTGATTGAACGATC',\n",
       " 'CGATCCTGGTGGCGG',\n",
       " 'GGCGGCATAGCGGAAG',\n",
       " 'GGAAGGGATTGGTATGA',\n",
       " 'TATGAAATAAATAAT',\n",
       " 'AAATAATAGTATATAA',\n",
       " 'TATAAATAATATATGT',\n",
       " 'ATATGTAAATGATAAGG',\n",
       " 'TAAGGGTTACTGGAG',\n",
       " 'TGGAGAACGCACGGC',\n",
       " 'CACGGCCTGCGGCATG',\n",
       " 'GCATGAGGTGATGCAAA',\n",
       " 'GCAAACGAAGACAGCGG',\n",
       " 'CAGCGGGGTCGCCTT',\n",
       " 'GCCTTATTTATAAAT',\n",
       " 'TAAATTACAGTTACATT',\n",
       " 'ACATTGTTTGAAATGAA',\n",
       " 'AATGAAAAAGATAAGG',\n",
       " 'TAAGGCGATGAGCTT',\n",
       " 'AGCTTCTGAAGAAAA',\n",
       " 'GAAAAATATTTAGTCAG',\n",
       " 'GTCAGGCGCCCCATGTT',\n",
       " 'ATGTTTCTTGAAAGAGA',\n",
       " 'AGAGAACCTCAATACT',\n",
       " 'ATACTCAACAATTTA',\n",
       " 'ATTTAATAGTATTGA',\n",
       " 'ATTGATGGATCGACA',\n",
       " 'TCGACATACGTCCCGG',\n",
       " 'CCCGGGTGGGCCGGA',\n",
       " 'CCGGAATCCCTGCTC',\n",
       " 'CTGCTCTTCTTGCGGA',\n",
       " 'TGCGGATCATCTCGC',\n",
       " 'TCTCGCGCGATTCGA',\n",
       " 'TTCGACCGCATTGAT',\n",
       " 'TTGATGATCCTAAATAA',\n",
       " 'AAATAAAAGTGAAGA',\n",
       " 'GAAGAGGAGTTGTTTT',\n",
       " 'GTTTTCATTTGTTCA',\n",
       " 'GTTCAATACGCTCATTT',\n",
       " 'TCATTTCCGTCGTTTCG',\n",
       " 'GTTTCGATGTCGGCC',\n",
       " 'CGGCCGCCTGTTCTCGA',\n",
       " 'CTCGAAACGCTGACC',\n",
       " 'TGACCGGCGCAAACGG',\n",
       " 'AACGGCGCACCTGTGG',\n",
       " 'TGTGGCTGTAGTTGCCA',\n",
       " 'TGCCACTCGAAATATG',\n",
       " 'AATATGGACAAATAAGC',\n",
       " 'TAAGCCATGATATACTT',\n",
       " 'ATACTTTCTCACCATC',\n",
       " 'CCATCGACGATATGCA',\n",
       " 'TATGCAAAAACGCTAT',\n",
       " 'GCTATTTACTTCAACT',\n",
       " 'CAACTCTATTTTTTTCA',\n",
       " 'TTTCAAATGCTTTTC',\n",
       " 'TTTTCCCACCAAAAA',\n",
       " 'AAAAATGTATATAAGA',\n",
       " 'ATAAGAGCTATAGCCCA',\n",
       " 'GCCCACGCCCAGGCT',\n",
       " 'AGGCTGTTCGAACCGGT',\n",
       " 'ACCGGTCACCAGCCC',\n",
       " 'ACCAGCCCGGCCCGT',\n",
       " 'GCCCGTAGCGCGTGACC',\n",
       " 'TGACCGTATTTAAATT',\n",
       " 'AAATTAAATCAGTCA',\n",
       " 'TCAGTCAATCTGAAAGG',\n",
       " 'AAAGGGTAGAGGTGAAT',\n",
       " 'GTGAATCGTAATAAG',\n",
       " 'ATAAGAAGCTGATTT',\n",
       " 'GATTTTTATATAAAAT',\n",
       " 'AAAATCACCGAAATGT',\n",
       " 'AAATGTTGAAATCAGG',\n",
       " 'TCAGGAAACCACGAA',\n",
       " 'ACGAAGAATAACGCAC',\n",
       " 'ACGCACTTCTATGACAA',\n",
       " 'GACAAATTAAACTGGC',\n",
       " 'ACTGGCGTGCTGCCGA',\n",
       " 'GCCGATCCTGTCTGA',\n",
       " 'TCTGATACTGGATAT',\n",
       " 'GATATCATGGAGATG',\n",
       " 'AGATGTGCATGTGGAA',\n",
       " 'GTGGAAAAGACCAGTT',\n",
       " 'CAGTTTCGCAATTTT',\n",
       " 'GCAATTTTACCCAAAT',\n",
       " 'CCAAATAGTTCTAATTC',\n",
       " 'AATTCTGCGTTGGAA',\n",
       " 'TGGAACCTAGACTGGA',\n",
       " 'ACTGGATGATCGGCG',\n",
       " 'TCGGCGCTTGTCCATT',\n",
       " 'TCCATTTTTTAATCTTT',\n",
       " 'TCTTTATTTTTCTCGTT',\n",
       " 'TCGTTGTCCTCCCATC',\n",
       " 'CCATCTTCACGCGCT',\n",
       " 'GCGCTGTTCGGCGTG',\n",
       " 'CGGCGTGGCGGTTGT',\n",
       " 'GGTTGTAGACCAGGT',\n",
       " 'CCAGGTAGAACGGCAAG',\n",
       " 'GCAAGTAAGTCCATT',\n",
       " 'CCATTTATAAGTATT',\n",
       " 'AGTATTTAAATATAATA',\n",
       " 'ATAATACACTCGACC',\n",
       " 'CGACCTTGATCCCCT',\n",
       " 'TCCCCTTCCGTCGTG',\n",
       " 'TCGTGACATTTTCATCA',\n",
       " 'TCATCATCGCGAACGTC',\n",
       " 'ACGTCTTCTTCATAGCG',\n",
       " 'TAGCGGCTAGGCCGGCT',\n",
       " 'CCGGCTGGACCCGGGAG',\n",
       " 'GGGAGGCCGTGCTGG',\n",
       " 'GCTGGCGACGACGGAC',\n",
       " 'CGGACAAAAAAACTCAA',\n",
       " 'CAAAAAAACTCAAAC',\n",
       " 'CAAACAGTTCATTCC',\n",
       " 'ATTCCTCCACCTCGA',\n",
       " 'CTCGAGCAAGCTGAAG',\n",
       " 'TGAAGGAATTAATAT',\n",
       " 'AATATTGATTCTATC',\n",
       " 'CTATCATAAATTCCGT',\n",
       " 'TCCGTAGATGAATTTT',\n",
       " 'GAATTTTTGATCCGT',\n",
       " 'TCCGTTTTCCATATCT',\n",
       " 'TATCTATCAAATGGTT',\n",
       " 'TGGTTTAGAAAGAGAAT',\n",
       " 'AGAATCTATATTCTTA',\n",
       " 'TTCTTAGAAGATTGT',\n",
       " 'AAGATTGTGATGTTCC',\n",
       " 'TGTTCCCCGCATTTAT',\n",
       " 'CATTTATCAAAACGCC',\n",
       " 'ACGCCATCCGGCAGCG',\n",
       " 'GCAGCGGAACGGTCG',\n",
       " 'GGTCGTGATGCGTACGC',\n",
       " 'TACGCCATTTGTTTTGA',\n",
       " 'TTTGAGGAAAATGGTG',\n",
       " 'TGGTGAGGCTGTGACT',\n",
       " 'TGACTCGCAAAAACTAA',\n",
       " 'ACTAAATACAAGGTG',\n",
       " 'AGGTGTAGACCCACAGC',\n",
       " 'CACAGCAATTATGATG',\n",
       " 'TGATGGGTTATGGTT',\n",
       " 'TGGTTGTCTAATCAAC',\n",
       " 'TCAACTATGACGCAG',\n",
       " 'CGCAGGCATGGCGGATC',\n",
       " 'GGATCGGGTGTAGGGAA',\n",
       " 'AGGGAAAGGGAAAAT',\n",
       " 'AAAATGCATTCTACATT',\n",
       " 'ACATTTTTAGACTTCT',\n",
       " 'CTTCTAAAGGTCTAA',\n",
       " 'GTCTAATAGGTTAAAAG',\n",
       " 'AAAAGCGCATAATCTG',\n",
       " 'ATCTGCGCCAGCTTTTT',\n",
       " 'CTTTTTAAATACTTCA',\n",
       " 'CTTCAACATATGAAA',\n",
       " 'TGAAAGAAAATCCAGAG',\n",
       " 'CCAGAGAAAGTAAGAT',\n",
       " 'TAAGATCCATGGGATAT',\n",
       " 'GATATCGCTGTCATCT',\n",
       " 'TCATCTACAGGCTCGA',\n",
       " 'CTCGAACGGCGGCAG',\n",
       " 'CGGCAGGGCAGCACGTG',\n",
       " 'ACGTGCGCGCCACGG',\n",
       " 'CCACGGAAGTATGCGCG',\n",
       " 'TATGCGCGCGAGATGT',\n",
       " 'GATGTTTGCTAATCA',\n",
       " 'TAATCACTTTATTTTG',\n",
       " 'ATTTTGAAACATCAC',\n",
       " 'CATCACGCCCGAGCAGG',\n",
       " 'GCAGGAGAGCCTGAC',\n",
       " 'CTGACGCTGGAGCTG',\n",
       " 'AGCTGGAACGGCGAGCC',\n",
       " 'GAGCCAAAGAAATTA',\n",
       " 'AATTAAAGCCACAAC',\n",
       " 'ACAACGCGCTGTCGA',\n",
       " 'GTCGAGCGCCGGCAGG',\n",
       " 'GCAGGTGTACTACCTGA',\n",
       " 'ACCTGAAGGATCGCC',\n",
       " 'TCGCCGGCATTGCGCA',\n",
       " 'TGCGCACAGCACCCT',\n",
       " 'ACCCTGGTCAAGCCCG',\n",
       " 'GCCCGCAAGAGCCCG',\n",
       " 'GCCCGAGGCGCGCGCCG',\n",
       " 'GCGCCGGTCTGATTG',\n",
       " 'TGATTGGCATCAGCAG',\n",
       " 'CAGCAGCCAGAACGCCA',\n",
       " 'CGCCATGTACGTTGTCG',\n",
       " 'TTGTCGTCTTCCGCCG',\n",
       " 'TCCGCCGGCTATCGGC',\n",
       " 'ATCGGCCAGCCCGTATG',\n",
       " 'GTATGTTGAAACGGAA',\n",
       " 'CGGAATGCTTGCCATT',\n",
       " 'CCATTTACAATTTAG',\n",
       " 'TTTAGCCGCCTCGGTC',\n",
       " 'CGGTCTGGCCGAGCG',\n",
       " 'GAGCGAAGATGCGGC',\n",
       " 'TGCGGCACCGGCGGCT',\n",
       " 'CGGCTGTCCATTCAGCT',\n",
       " 'CAGCTGGCCGGTGAC',\n",
       " 'GGTGACTGGTTGGCGA',\n",
       " 'TGGCGAACGGGCCGC',\n",
       " 'GGCCGCTGGCGATCAGG',\n",
       " 'TCAGGAAGGTTTTAA',\n",
       " 'GTTTTAAAACTTTAATG',\n",
       " 'TAATGTACTCTCTATCG',\n",
       " 'TATCGCACAAGCAGCA',\n",
       " 'CAGCATGATTTTAAAA',\n",
       " 'TAAAAAAAGTACATCTG',\n",
       " 'ATCTGCTCATTATCT',\n",
       " 'TATCTACATGATTTTTG',\n",
       " 'TTTTTGTCATGATAG',\n",
       " 'GATAGGTAGTGGAAA',\n",
       " 'GGAAAAATTATGAGACG',\n",
       " 'AGACGACTGGTGATCCT',\n",
       " 'ATCCTCGCCAAGGCGA',\n",
       " 'GCCAAGGCGATCGAGC',\n",
       " 'CGAGCAATGTAGTGCC',\n",
       " 'GTGCCGGTGGTCAAG',\n",
       " 'GTCAAGCAATGCGCC',\n",
       " 'GCGCCGGGCCAGGAA',\n",
       " 'AGGAAGCGGTGCGGCTG',\n",
       " 'GGCTGCCCGCGCGCAC',\n",
       " 'CGCACGCTGGCCACCG',\n",
       " 'CCACCGGGTGCGGACC',\n",
       " 'GGACCAATGTCCTTTT',\n",
       " 'CTTTTATATTCATAC',\n",
       " 'TCATACCTATCTTTTA',\n",
       " 'TTTTAAGTGTTAACTT',\n",
       " 'AACTTGCAGCACATAT',\n",
       " 'ACATATCCCCATCACA',\n",
       " 'ATCACAAGCCTGCCAA',\n",
       " 'GCCAAGCAGCACATC',\n",
       " 'AGCACATCGCGCATGC',\n",
       " 'CGCATGCCTCGGAAT',\n",
       " 'CGGAATTTCTCGTGGC',\n",
       " 'TCGTGGCGCTGGTGC',\n",
       " 'TGGTGCCGACGCTGG',\n",
       " 'CGCTGGGCATGCCGCT',\n",
       " 'TGCCGCTCCGATCCT',\n",
       " 'ATCCTTCAGGTGGGCC',\n",
       " 'GGGCCAGCGCGCGCGGT',\n",
       " 'GCGGTAGCGCCTGCCG',\n",
       " 'TGCCGACAGATAAGC',\n",
       " 'TAAGCATAGATATGATA',\n",
       " 'TATGATAGTGTTTAT',\n",
       " 'TTTATTGTACAATCATC',\n",
       " 'TCATCCTGGCCATCGTG',\n",
       " 'ATCGTGATCTCGACC',\n",
       " 'ATCTCGACCGCCTGCAG',\n",
       " 'TGCAGCATGAAGCGTG',\n",
       " 'AAGCGTGCGGCGCGGCG',\n",
       " 'CGGCGCCGCCCGTCAG',\n",
       " 'CGTCAGGGCGGCAAGG',\n",
       " 'CAAGGATTCATCTTC',\n",
       " 'TCTTCTTTTACATTCT',\n",
       " 'ATTCTGTAAATTTTGGC',\n",
       " 'TTGGCTTTCCACCTTTA',\n",
       " 'CTTTAGGAAGTCAGCT',\n",
       " 'CAGCTTCTAACCGTTG',\n",
       " 'CGTTGTCGCCCACCAT',\n",
       " 'ACCATCGAAGACCCG',\n",
       " 'ACCCGGACGACCACC',\n",
       " 'CCACCCACAGCAATCC',\n",
       " 'GCAATCCTCACAGCG',\n",
       " 'CAGCGTCGACGTCTC',\n",
       " 'GTCTCCAGGTCGCGG',\n",
       " 'CGCGGCGCGCAGATCAC',\n",
       " 'ATCACGCGGGTGGGCC',\n",
       " 'GGGCCTGCCGTCCTG',\n",
       " 'CGTCCTGCTTGTGCTGT',\n",
       " 'TGTGCTGTCTTTTTTC',\n",
       " 'TTTTCAAAGCTTGCGA',\n",
       " 'TTGCGAACCCGGTCCG',\n",
       " 'GTCCGCTCGGGATTCAG',\n",
       " 'GATTCAGATACTCTAT',\n",
       " 'TCTATCACACCATCTT',\n",
       " 'ATCTTAAAATAGCTA',\n",
       " 'AGCTATCAGAGGCCAAG',\n",
       " 'CCAAGGGGTTGTCCGT',\n",
       " 'TCCGTGCGGGCACGC',\n",
       " 'CACGCAGACCGGCGGCG',\n",
       " 'CGGCGGCGGCAAGTTC',\n",
       " 'AAGTTCCAGCTCTTTT',\n",
       " 'GCTCTTTTGTGACTT',\n",
       " 'TGACTTCGCCGGGCGC',\n",
       " 'GGCGCACCGCATGACG',\n",
       " 'TGACGCTCGACCAGA',\n",
       " 'CCAGACGTAGCCCTGC',\n",
       " 'CCTGCACCCGCTGATCG',\n",
       " 'GATCGCTGCGCTTCATG',\n",
       " 'TCATGCTTGCTTCGC',\n",
       " 'CTTCGCACCATCGAAGG',\n",
       " 'CGAAGGAGAGATCTT',\n",
       " 'ATCTTCCTTTGTCCTC',\n",
       " 'TCCTCAATCTCTTCGT',\n",
       " 'CTTCGTATAAATCCAT',\n",
       " 'TCCATGCGGCTCACCAG',\n",
       " 'ACCAGCACGCCGCGC',\n",
       " 'CCGCGCGCTCCATGCGC',\n",
       " 'TGCGCTCATCTACCTGG',\n",
       " 'CCTGGACTTTTTGATTG',\n",
       " 'GATTGCGGCCATCAC',\n",
       " 'CATCACATATAACTGT',\n",
       " 'ACTGTGATCGAACTC',\n",
       " 'AACTCCTCCATTGAAG',\n",
       " 'TGAAGAGTTAACATT',\n",
       " ...]"
      ]
     },
     "execution_count": 183,
     "metadata": {},
     "output_type": "execute_result"
    }
   ],
   "source": [
    "paths[path_properties.index[0]]"
   ]
  },
  {
   "cell_type": "code",
   "execution_count": null,
   "id": "513f1d9a-a963-47c8-b58b-94f3bac19ec7",
   "metadata": {},
   "outputs": [],
   "source": []
  },
  {
   "cell_type": "code",
   "execution_count": null,
   "id": "a544274e-3b24-40b1-b4b8-435591aaf969",
   "metadata": {},
   "outputs": [],
   "source": []
  },
  {
   "cell_type": "code",
   "execution_count": null,
   "id": "8e4998a6-cf30-46a2-bf26-a68d3782285b",
   "metadata": {},
   "outputs": [],
   "source": []
  },
  {
   "cell_type": "code",
   "execution_count": null,
   "id": "3e66eaf2-3025-405e-a8b1-2f4b539ab0f7",
   "metadata": {},
   "outputs": [],
   "source": []
  },
  {
   "cell_type": "code",
   "execution_count": null,
   "id": "e35fc56c-3eb9-4b29-8eb7-cbd359c539ba",
   "metadata": {},
   "outputs": [],
   "source": []
  },
  {
   "cell_type": "code",
   "execution_count": null,
   "id": "54cdc7c4-4617-4bea-add1-114b8fe59a73",
   "metadata": {},
   "outputs": [],
   "source": []
  },
  {
   "cell_type": "code",
   "execution_count": null,
   "id": "aa63e6f8-5e5c-413a-995f-4521a375f92f",
   "metadata": {},
   "outputs": [],
   "source": []
  },
  {
   "cell_type": "code",
   "execution_count": null,
   "id": "aa3ae195-e9a3-4a46-a043-5245f26b7281",
   "metadata": {},
   "outputs": [],
   "source": []
  },
  {
   "cell_type": "code",
   "execution_count": null,
   "id": "390f2665-7924-4438-a112-2dd06450ddd1",
   "metadata": {},
   "outputs": [],
   "source": []
  },
  {
   "cell_type": "code",
   "execution_count": null,
   "id": "5ad969b4-e967-425e-b1be-d17ffe3e6fc2",
   "metadata": {},
   "outputs": [],
   "source": []
  },
  {
   "cell_type": "code",
   "execution_count": null,
   "id": "34926e6c-e032-401b-8288-55922f1d4155",
   "metadata": {},
   "outputs": [],
   "source": []
  },
  {
   "cell_type": "code",
   "execution_count": null,
   "id": "2cfb48b6-9c81-4a28-8e79-8831b618dcff",
   "metadata": {},
   "outputs": [],
   "source": []
  },
  {
   "cell_type": "code",
   "execution_count": null,
   "id": "9e95d987-fa82-4505-ae44-051fcce154d2",
   "metadata": {},
   "outputs": [],
   "source": []
  },
  {
   "cell_type": "code",
   "execution_count": null,
   "id": "4dd15e4e-2c23-4f82-a6d4-13ce2d312518",
   "metadata": {},
   "outputs": [],
   "source": []
  },
  {
   "cell_type": "code",
   "execution_count": null,
   "id": "35d5cb6c-9d59-40f1-97ac-043889817eda",
   "metadata": {},
   "outputs": [],
   "source": []
  }
 ],
 "metadata": {
  "kernelspec": {
   "display_name": "Python 3 (ipykernel)",
   "language": "python",
   "name": "python3"
  },
  "language_info": {
   "codemirror_mode": {
    "name": "ipython",
    "version": 3
   },
   "file_extension": ".py",
   "mimetype": "text/x-python",
   "name": "python",
   "nbconvert_exporter": "python",
   "pygments_lexer": "ipython3",
   "version": "3.11.5"
  }
 },
 "nbformat": 4,
 "nbformat_minor": 5
}
